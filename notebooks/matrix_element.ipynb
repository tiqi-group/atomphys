{
 "cells": [
  {
   "cell_type": "code",
   "execution_count": 1,
   "metadata": {},
   "outputs": [],
   "source": [
    "%reload_ext autoreload\n",
    "%autoreload 2"
   ]
  },
  {
   "cell_type": "code",
   "execution_count": 39,
   "metadata": {},
   "outputs": [],
   "source": [
    "import atomphys\n",
    "from atomphys import Atom, State\n",
    "from math import pi, sqrt\n",
    "\n",
    "import pint\n",
    "_ureg = pint.get_application_registry()"
   ]
  },
  {
   "cell_type": "code",
   "execution_count": 3,
   "metadata": {},
   "outputs": [
    {
     "data": {
      "text/html": [
       "ε_0"
      ],
      "text/latex": [
       "$\\mathrm{ε\\_0}$"
      ],
      "text/plain": [
       "<Unit('vacuum_permittivity')>"
      ]
     },
     "execution_count": 3,
     "metadata": {},
     "output_type": "execute_result"
    }
   ],
   "source": [
    "_ureg.epsilon_0"
   ]
  },
  {
   "cell_type": "code",
   "execution_count": 4,
   "metadata": {},
   "outputs": [
    {
     "name": "stdout",
     "output_type": "stream",
     "text": [
      "Loading atom Ca+\n",
      "Added 72 states\n",
      "Added 99 transitions\n"
     ]
    }
   ],
   "source": [
    "ca = Atom.from_nist('Ca+')"
   ]
  },
  {
   "cell_type": "code",
   "execution_count": 8,
   "metadata": {},
   "outputs": [
    {
     "data": {
      "text/plain": [
       "{}"
      ]
     },
     "execution_count": 8,
     "metadata": {},
     "output_type": "execute_result"
    }
   ],
   "source": [
    "s0 = ca.states[0]\n",
    "s0.transitions_to"
   ]
  },
  {
   "cell_type": "code",
   "execution_count": 13,
   "metadata": {},
   "outputs": [],
   "source": [
    "sx = State('comf', '1S0', \"0\")"
   ]
  },
  {
   "cell_type": "code",
   "execution_count": 20,
   "metadata": {},
   "outputs": [
    {
     "name": "stdout",
     "output_type": "stream",
     "text": [
      "State(3p6.4p 2P*1/2 0.2296 Ry)\n"
     ]
    },
    {
     "data": {
      "text/html": [
       "23.968734429639436 MHz"
      ],
      "text/latex": [
       "$23.968734429639436\\ \\mathrm{MHz}$"
      ],
      "text/plain": [
       "23.968734429639436 <Unit('megahertz')>"
      ]
     },
     "execution_count": 20,
     "metadata": {},
     "output_type": "execute_result"
    }
   ],
   "source": [
    "s = ca.states[3]\n",
    "print(s)\n",
    "s.Gamma"
   ]
  },
  {
   "cell_type": "code",
   "execution_count": 22,
   "metadata": {},
   "outputs": [
    {
     "data": {
      "text/plain": [
       "{State(3p6.4s 2S1/2 0 Ry): Transition(3p6.4s 2S1/2 --> 3p6.4p 2P*1/2 397 nm (E1)),\n",
       " State(3p6.3d 2D3/2 0.1244 Ry): Transition(3p6.3d 2D3/2 --> 3p6.4p 2P*1/2 866 nm (E1))}"
      ]
     },
     "execution_count": 22,
     "metadata": {},
     "output_type": "execute_result"
    }
   ],
   "source": [
    "s.transitions_to"
   ]
  },
  {
   "cell_type": "code",
   "execution_count": 24,
   "metadata": {},
   "outputs": [
    {
     "data": {
      "text/plain": [
       "{State(3p6.4s 2S1/2 0 Ry): 0.9296148738379815,\n",
       " State(3p6.3d 2D3/2 0.1244 Ry): 0.0703851261620186}"
      ]
     },
     "execution_count": 24,
     "metadata": {},
     "output_type": "execute_result"
    }
   ],
   "source": [
    "s.decay"
   ]
  },
  {
   "cell_type": "code",
   "execution_count": 38,
   "metadata": {},
   "outputs": [
    {
     "data": {
      "text/html": [
       "6.640106241699867×10<sup>-9</sup> s"
      ],
      "text/latex": [
       "$6.640106241699867\\times 10^{-9}\\ \\mathrm{s}$"
      ],
      "text/plain": [
       "6.640106241699867e-09 <Unit('second')>"
      ]
     },
     "execution_count": 38,
     "metadata": {},
     "output_type": "execute_result"
    }
   ],
   "source": [
    "s.lifetime"
   ]
  },
  {
   "cell_type": "code",
   "execution_count": 35,
   "metadata": {},
   "outputs": [
    {
     "data": {
      "text/plain": [
       "Transition(3p6.4s 2S1/2 --> 3p6.4p 2P*1/2 397 nm (E1))"
      ]
     },
     "execution_count": 35,
     "metadata": {},
     "output_type": "execute_result"
    }
   ],
   "source": [
    "tr = ca.transitions[1]\n",
    "tr"
   ]
  },
  {
   "cell_type": "code",
   "execution_count": 36,
   "metadata": {},
   "outputs": [
    {
     "data": {
      "text/html": [
       "22.281692032865347 MHz"
      ],
      "text/latex": [
       "$22.281692032865347\\ \\mathrm{MHz}$"
      ],
      "text/plain": [
       "22.281692032865347 <Unit('megahertz')>"
      ]
     },
     "execution_count": 36,
     "metadata": {},
     "output_type": "execute_result"
    }
   ],
   "source": [
    "tr.Gamma"
   ]
  },
  {
   "cell_type": "code",
   "execution_count": 44,
   "metadata": {},
   "outputs": [
    {
     "data": {
      "text/html": [
       "140000000.0 1/s"
      ],
      "text/latex": [
       "$140000000.0\\ \\frac{1}{\\mathrm{s}}$"
      ],
      "text/plain": [
       "140000000.0 <Unit('1 / second')>"
      ]
     },
     "execution_count": 44,
     "metadata": {},
     "output_type": "execute_result"
    }
   ],
   "source": [
    "tr.A"
   ]
  },
  {
   "cell_type": "code",
   "execution_count": 47,
   "metadata": {},
   "outputs": [
    {
     "data": {
      "text/html": [
       "ε_0"
      ],
      "text/latex": [
       "$\\mathrm{ε\\_0}$"
      ],
      "text/plain": [
       "<Unit('vacuum_permittivity')>"
      ]
     },
     "execution_count": 47,
     "metadata": {},
     "output_type": "execute_result"
    }
   ],
   "source": [
    "_ureg.epsilon_0"
   ]
  },
  {
   "cell_type": "code",
   "execution_count": 51,
   "metadata": {},
   "outputs": [
    {
     "data": {
      "text/html": [
       "ħ"
      ],
      "text/latex": [
       "$\\mathrm{ħ}$"
      ],
      "text/plain": [
       "<Unit('dirac_constant')>"
      ]
     },
     "execution_count": 51,
     "metadata": {},
     "output_type": "execute_result"
    }
   ],
   "source": [
    "_ureg.hbar"
   ]
  },
  {
   "cell_type": "code",
   "execution_count": 63,
   "metadata": {},
   "outputs": [
    {
     "data": {
      "text/html": [
       "2.078976034669241 a_0 e"
      ],
      "text/latex": [
       "$2.078976034669241\\ \\mathrm{a\\_0} \\cdot \\mathrm{e}$"
      ],
      "text/plain": [
       "2.078976034669241 <Unit('bohr * elementary_charge')>"
      ]
     },
     "execution_count": 63,
     "metadata": {},
     "output_type": "execute_result"
    }
   ],
   "source": [
    "from atomphys.calc import matrix_element as mx\n",
    "\n",
    "A = tr.A\n",
    "wl = tr.wavelength\n",
    "mx.dipole_matrix_element(A, wl, tr._ureg).to('e a0')"
   ]
  },
  {
   "cell_type": "code",
   "execution_count": 64,
   "metadata": {},
   "outputs": [
    {
     "data": {
      "text/html": [
       "2866.049631779207 a_0<sup>2</sup> e"
      ],
      "text/latex": [
       "$2866.049631779207\\ \\mathrm{a\\_0}^{2} \\cdot \\mathrm{e}$"
      ],
      "text/plain": [
       "2866.049631779207 <Unit('bohr ** 2 * elementary_charge')>"
      ]
     },
     "execution_count": 64,
     "metadata": {},
     "output_type": "execute_result"
    }
   ],
   "source": [
    "mx.quadrupole_matrix_element(A, wl, tr._ureg).to('e a0**2')\n"
   ]
  }
 ],
 "metadata": {
  "kernelspec": {
   "display_name": ".venv",
   "language": "python",
   "name": "python3"
  },
  "language_info": {
   "codemirror_mode": {
    "name": "ipython",
    "version": 3
   },
   "file_extension": ".py",
   "mimetype": "text/x-python",
   "name": "python",
   "nbconvert_exporter": "python",
   "pygments_lexer": "ipython3",
   "version": "3.10.4"
  },
  "orig_nbformat": 4
 },
 "nbformat": 4,
 "nbformat_minor": 2
}
