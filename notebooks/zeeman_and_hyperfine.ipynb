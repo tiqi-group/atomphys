{
 "cells": [
  {
   "cell_type": "code",
   "execution_count": 1,
   "metadata": {},
   "outputs": [],
   "source": [
    "%reload_ext autoreload\n",
    "%autoreload 2\n"
   ]
  },
  {
   "cell_type": "code",
   "execution_count": 2,
   "metadata": {},
   "outputs": [],
   "source": [
    "from atomphys import _ureg\n",
    "from atomphys.data import nist\n",
    "from pprint import pprint\n",
    "from atomphys.term import print_term, parse_term, QuantumNumbers\n",
    "\n",
    "from atomphys.state import State, hyperfine_manifold\n",
    "\n",
    "from pint import Quantity"
   ]
  },
  {
   "cell_type": "code",
   "execution_count": 3,
   "metadata": {},
   "outputs": [
    {
     "data": {
      "text/plain": [
       "{'J1': 1.5, 'J2': 1.0, 'parity': 1, 'J': 3.0}"
      ]
     },
     "execution_count": 3,
     "metadata": {},
     "output_type": "execute_result"
    }
   ],
   "source": [
    "parse_term('(3/2,1)3')"
   ]
  },
  {
   "cell_type": "code",
   "execution_count": 4,
   "metadata": {},
   "outputs": [],
   "source": [
    "# atom = 'Yb+'\n",
    "# ix = 4\n",
    "\n",
    "atom = 'Na I'\n",
    "ix = 0\n",
    "all_states_data = nist.fetch_states(atom, refresh_cache=False)\n",
    "\n",
    "def _state(ix):\n",
    "    psd = nist.parse_states1(all_states_data[ix])\n",
    "    return State(configuration=psd['configuration'], term=psd['term'], energy=psd['energy'])\n",
    "\n",
    "s0 = _state(0)"
   ]
  },
  {
   "cell_type": "code",
   "execution_count": 5,
   "metadata": {},
   "outputs": [
    {
     "data": {
      "text/html": [
       "0.0 Ry"
      ],
      "text/latex": [
       "$0.0\\ \\mathrm{Ry}$"
      ],
      "text/plain": [
       "0.0 <Unit('rydberg')>"
      ]
     },
     "execution_count": 5,
     "metadata": {},
     "output_type": "execute_result"
    }
   ],
   "source": [
    "s0.energy"
   ]
  },
  {
   "cell_type": "code",
   "execution_count": 6,
   "metadata": {},
   "outputs": [],
   "source": [
    "from atomphys.state import HyperfineState"
   ]
  },
  {
   "cell_type": "code",
   "execution_count": 7,
   "metadata": {},
   "outputs": [
    {
     "data": {
      "text/plain": [
       "[HyperfineState(2p6.3s 2S1/2 F=1 -3.366e-07 Ry),\n",
       " HyperfineState(2p6.3s 2S1/2 F=2 2.019×10⁻⁷ Ry)]"
      ]
     },
     "execution_count": 7,
     "metadata": {},
     "output_type": "execute_result"
    }
   ],
   "source": [
    "I = 3/2\n",
    "\n",
    "Ahf = Quantity(\"planck_constant * 885.81306440 MHz\")\n",
    "\n",
    "hyperfine_manifold(s0, I, Ahf)"
   ]
  },
  {
   "cell_type": "code",
   "execution_count": 8,
   "metadata": {},
   "outputs": [],
   "source": [
    "states = [_state(ix) for ix in range(3)]\n",
    "\n",
    "hyperfine_constants = [\n",
    "    (Quantity(\"885.81306440 planck_constant * MHz\"), 0),  # S1/2\n",
    "    (Quantity(\"94.44 planck_constant * MHz\"), 0),  # P1/2\n",
    "    (Quantity(\"18.534 planck_constant * MHz\"), Quantity(\"2.724 planck_constant * MHz\")),  # P3/2\n",
    "]\n"
   ]
  },
  {
   "cell_type": "code",
   "execution_count": 9,
   "metadata": {},
   "outputs": [
    {
     "name": "stdout",
     "output_type": "stream",
     "text": [
      "Hyperfine manifold of State(2p6.3s 2S1/2 0 Ry)\n",
      "HyperfineState(2p6.3s 2S1/2 F=1 -3.366e-07 Ry) -1.11e+03 MHz\n",
      "HyperfineState(2p6.3s 2S1/2 F=2 2.019×10⁻⁷ Ry) 664 MHz\n",
      "\n",
      "Hyperfine manifold of State(2p6.3p 2P*1/2 0.1545 Ry)\n",
      "HyperfineState(2p6.3p 2P*1/2 F=1 0.1545 Ry) -118 MHz\n",
      "HyperfineState(2p6.3p 2P*1/2 F=2 0.1545 Ry) 70.8 MHz\n",
      "\n",
      "Hyperfine manifold of State(2p6.3p 2P*3/2 0.1547 Ry)\n",
      "HyperfineState(2p6.3p 2P*3/2 F=0 0.1547 Ry) -66.1 MHz\n",
      "HyperfineState(2p6.3p 2P*3/2 F=1 0.1547 Ry) -50.3 MHz\n",
      "HyperfineState(2p6.3p 2P*3/2 F=2 0.1547 Ry) -15.9 MHz\n",
      "HyperfineState(2p6.3p 2P*3/2 F=3 0.1547 Ry) 42.4 MHz\n",
      "\n"
     ]
    }
   ],
   "source": [
    "hyperfine_states_na = set()\n",
    "\n",
    "for s, cc in zip(states, hyperfine_constants):\n",
    "    print(f\"Hyperfine manifold of {s}\")\n",
    "    hstates = hyperfine_manifold(s, I, *cc)\n",
    "    for hs in hstates:\n",
    "        print(hs, (hs.energy - s.energy).to('MHz', 'sp'))\n",
    "        hyperfine_states_na.add(hs)\n",
    "    print()"
   ]
  },
  {
   "cell_type": "code",
   "execution_count": 10,
   "metadata": {},
   "outputs": [
    {
     "data": {
      "text/plain": [
       "{HyperfineState(2p6.3s 2S1/2 F=1 -3.366e-07 Ry),\n",
       " HyperfineState(2p6.3s 2S1/2 F=2 2.019×10⁻⁷ Ry),\n",
       " HyperfineState(2p6.3p 2P*1/2 F=1 0.1545 Ry),\n",
       " HyperfineState(2p6.3p 2P*1/2 F=2 0.1545 Ry),\n",
       " HyperfineState(2p6.3p 2P*3/2 F=0 0.1547 Ry),\n",
       " HyperfineState(2p6.3p 2P*3/2 F=1 0.1547 Ry),\n",
       " HyperfineState(2p6.3p 2P*3/2 F=2 0.1547 Ry),\n",
       " HyperfineState(2p6.3p 2P*3/2 F=3 0.1547 Ry)}"
      ]
     },
     "execution_count": 10,
     "metadata": {},
     "output_type": "execute_result"
    }
   ],
   "source": [
    "hyperfine_states_na"
   ]
  },
  {
   "cell_type": "code",
   "execution_count": 11,
   "metadata": {},
   "outputs": [],
   "source": [
    "from atomphys.atom import Atom\n",
    "\n",
    "na = Atom()\n",
    "na.add_states(hyperfine_states_na)"
   ]
  },
  {
   "cell_type": "code",
   "execution_count": 12,
   "metadata": {},
   "outputs": [
    {
     "data": {
      "image/png": "[encoded data removed]",
      "text/plain": [
       "<Figure size 640x480 with 1 Axes>"
      ]
     },
     "metadata": {},
     "output_type": "display_data"
    }
   ],
   "source": [
    "from atomphys.plot import plot_atom\n",
    "\n",
    "plot_atom(na, spread_threshold=1e-3)"
   ]
  }
 ],
 "metadata": {
  "kernelspec": {
   "display_name": ".venv",
   "language": "python",
   "name": "python3"
  },
  "language_info": {
   "codemirror_mode": {
    "name": "ipython",
    "version": 3
   },
   "file_extension": ".py",
   "mimetype": "text/x-python",
   "name": "python",
   "nbconvert_exporter": "python",
   "pygments_lexer": "ipython3",
   "version": "3.10.4"
  },
  "orig_nbformat": 4
 },
 "nbformat": 4,
 "nbformat_minor": 2
}
