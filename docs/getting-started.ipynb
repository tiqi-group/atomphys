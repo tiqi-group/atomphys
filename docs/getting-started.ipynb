{
 "cells": [
  {
   "cell_type": "markdown",
   "id": "040f0011",
   "metadata": {},
   "source": [
    "# Getting Started\n",
    "\n",
    "To get started with atomphys, you can install it with pip:\n",
    "```console\n",
    "pip install atomphys\n",
    "```\n",
    "Alternatively, you can run any of these examples in [binder](https://mybinder.org/) without any installation simply by clicking the link at the top of the page.\n",
    "\n",
    "To start with, import the `Atom` object, and use it to create a Cesium atom. By default, this will automatically populate with all of the states and transitions in the NIST Atomic Spectra Database."
   ]
  },
  {
   "cell_type": "code",
   "execution_count": 1,
   "id": "f9855b98",
   "metadata": {},
   "outputs": [
    {
     "data": {
      "text/plain": [
       "Ground State: 2S1/2\n",
       "179 States\n",
       "42 Transitions"
      ]
     },
     "execution_count": 1,
     "metadata": {},
     "output_type": "execute_result"
    }
   ],
   "source": [
    "from atomphys import Atom\n",
    "\n",
    "Cs = Atom('Cs')\n",
    "Cs"
   ]
  },
  {
   "cell_type": "markdown",
   "id": "da24f676",
   "metadata": {},
   "source": [
    "## States\n",
    "\n",
    "You can then lookup states either by *index* (the states are energy ordered), or by searching by term symbol:"
   ]
  },
  {
   "cell_type": "code",
   "execution_count": 2,
   "id": "a276ad6e",
   "metadata": {},
   "outputs": [
    {
     "data": {
      "text/plain": [
       "State(6P1/2, 2P1/2: 0.1019 Ry)"
      ]
     },
     "execution_count": 2,
     "metadata": {},
     "output_type": "execute_result"
    }
   ],
   "source": [
    "Cs(1)"
   ]
  },
  {
   "cell_type": "code",
   "execution_count": 3,
   "id": "fc9c7a90",
   "metadata": {},
   "outputs": [
    {
     "data": {
      "text/plain": [
       "State(6P3/2, 2P3/2: 0.1069 Ry)"
      ]
     },
     "execution_count": 3,
     "metadata": {},
     "output_type": "execute_result"
    }
   ],
   "source": [
    "Cs('P3/2')"
   ]
  },
  {
   "cell_type": "markdown",
   "id": "94aeb354",
   "metadata": {},
   "source": [
    "You can access properties of a state like the energy or lifetime."
   ]
  },
  {
   "cell_type": "code",
   "execution_count": 4,
   "id": "7ece8fdc",
   "metadata": {},
   "outputs": [
    {
     "data": {
      "text/html": [
       "0.101863874556 Ry"
      ],
      "text/latex": [
       "$0.101863874556\\ \\mathrm{Ry}$"
      ],
      "text/plain": [
       "0.101863874556 <Unit('rydberg')>"
      ]
     },
     "execution_count": 4,
     "metadata": {},
     "output_type": "execute_result"
    }
   ],
   "source": [
    "Cs('P1/2').energy"
   ]
  },
  {
   "cell_type": "code",
   "execution_count": 5,
   "id": "aff6a26e",
   "metadata": {},
   "outputs": [
    {
     "data": {
      "text/html": [
       "3.49283967865875×10<sup>-8</sup> s"
      ],
      "text/latex": [
       "$3.49283967865875\\times 10^{-8}\\ \\mathrm{s}$"
      ],
      "text/plain": [
       "3.49283967865875e-08 <Unit('second')>"
      ]
     },
     "execution_count": 5,
     "metadata": {},
     "output_type": "execute_result"
    }
   ],
   "source": [
    "Cs('P1/2').τ"
   ]
  },
  {
   "cell_type": "code",
   "execution_count": 6,
   "id": "3b5cbeb9",
   "metadata": {},
   "outputs": [
    {
     "data": {
      "text/html": [
       "3.49283967865875×10<sup>-8</sup> s"
      ],
      "text/latex": [
       "$3.49283967865875\\times 10^{-8}\\ \\mathrm{s}$"
      ],
      "text/plain": [
       "3.49283967865875e-08 <Unit('second')>"
      ]
     },
     "execution_count": 6,
     "metadata": {},
     "output_type": "execute_result"
    }
   ],
   "source": [
    "Cs('P1/2').lifetime"
   ]
  },
  {
   "cell_type": "markdown",
   "id": "f787ff75",
   "metadata": {},
   "source": [
    "By default atomphys uses [atomic units](https://en.wikipedia.org/wiki/Hartree_atomic_units). You can use pint to convert to units of your choice."
   ]
  },
  {
   "cell_type": "code",
   "execution_count": 7,
   "id": "3beae051",
   "metadata": {},
   "outputs": [
    {
     "data": {
      "text/html": [
       "34.92839678658749 ns"
      ],
      "text/latex": [
       "$34.92839678658749\\ \\mathrm{ns}$"
      ],
      "text/plain": [
       "34.92839678658749 <Unit('nanosecond')>"
      ]
     },
     "execution_count": 7,
     "metadata": {},
     "output_type": "execute_result"
    }
   ],
   "source": [
    "Cs('P1/2').τ.to('ns')"
   ]
  },
  {
   "cell_type": "code",
   "execution_count": 8,
   "id": "7e9d4ceb",
   "metadata": {},
   "outputs": [
    {
     "data": {
      "text/html": [
       "28.629999999999995 MHz"
      ],
      "text/latex": [
       "$28.629999999999995\\ \\mathrm{MHz}$"
      ],
      "text/plain": [
       "28.629999999999995 <Unit('megahertz')>"
      ]
     },
     "execution_count": 8,
     "metadata": {},
     "output_type": "execute_result"
    }
   ],
   "source": [
    "(1 / Cs('P1/2').lifetime ).to('MHz')"
   ]
  },
  {
   "cell_type": "markdown",
   "id": "4aaa4ca0",
   "metadata": {},
   "source": [
    "## Transitions\n",
    "\n",
    "You can access transitions origination from a state,"
   ]
  },
  {
   "cell_type": "code",
   "execution_count": 9,
   "id": "4aab7c9e",
   "metadata": {},
   "outputs": [
    {
     "data": {
      "text/plain": [
       "Transition(6S1/2, 2S1/2 <--> 6P1/2, 2P1/2 : λ=894.59 nm, Γ=2π×4.56 MHz)"
      ]
     },
     "execution_count": 9,
     "metadata": {},
     "output_type": "execute_result"
    }
   ],
   "source": [
    "Cs('S1/2').to('P1/2')"
   ]
  },
  {
   "cell_type": "markdown",
   "id": "bd66ede4",
   "metadata": {},
   "source": [
    "as well as properties of that transition, such as wavelength, dipole matrix element, and saturation intensity"
   ]
  },
  {
   "cell_type": "code",
   "execution_count": 10,
   "id": "d88412c6",
   "metadata": {},
   "outputs": [
    {
     "data": {
      "text/html": [
       "894.5929600207925 nm"
      ],
      "text/latex": [
       "$894.5929600207925\\ \\mathrm{nm}$"
      ],
      "text/plain": [
       "894.5929600207925 <Unit('nanometer')>"
      ]
     },
     "execution_count": 10,
     "metadata": {},
     "output_type": "execute_result"
    }
   ],
   "source": [
    "Cs('S1/2').to('P1/2').λ.to('nm')"
   ]
  },
  {
   "cell_type": "code",
   "execution_count": 11,
   "id": "54dcf043",
   "metadata": {},
   "outputs": [
    {
     "data": {
      "text/html": [
       "4.498115119474812 a_0 e"
      ],
      "text/latex": [
       "$4.498115119474812\\ \\mathrm{a\\_0} \\cdot \\mathrm{e}$"
      ],
      "text/plain": [
       "4.498115119474812 <Unit('bohr * elementary_charge')>"
      ]
     },
     "execution_count": 11,
     "metadata": {},
     "output_type": "execute_result"
    }
   ],
   "source": [
    "Cs('S1/2').to('P1/2').matrix_element.to('e a0')"
   ]
  },
  {
   "cell_type": "code",
   "execution_count": 12,
   "id": "73cf64e9",
   "metadata": {},
   "outputs": [
    {
     "data": {
      "text/html": [
       "0.8318600537758194 mW/cm<sup>2</sup>"
      ],
      "text/latex": [
       "$0.8318600537758194\\ \\frac{\\mathrm{mW}}{\\mathrm{cm}^{2}}$"
      ],
      "text/plain": [
       "0.8318600537758194 <Unit('milliwatt / centimeter ** 2')>"
      ]
     },
     "execution_count": 12,
     "metadata": {},
     "output_type": "execute_result"
    }
   ],
   "source": [
    "Cs('S1/2').to('P1/2').Isat.to('mW/cm^2')"
   ]
  }
 ],
 "metadata": {
  "kernelspec": {
   "display_name": "Python 3 (ipykernel)",
   "language": "python",
   "name": "python3"
  },
  "language_info": {
   "codemirror_mode": {
    "name": "ipython",
    "version": 3
   },
   "file_extension": ".py",
   "mimetype": "text/x-python",
   "name": "python",
   "nbconvert_exporter": "python",
   "pygments_lexer": "ipython3",
   "version": "3.8.10"
  }
 },
 "nbformat": 4,
 "nbformat_minor": 5
}
