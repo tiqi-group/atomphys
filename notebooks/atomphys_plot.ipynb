{
  "cells": [
    {
      "cell_type": "code",
      "execution_count": 1,
      "metadata": {},
      "outputs": [],
      "source": [
        "%reload_ext autoreload\n",
        "%autoreload 2"
      ]
    },
    {
      "cell_type": "code",
      "execution_count": 2,
      "metadata": {},
      "outputs": [],
      "source": [
        "from atomphys import Atom, Laser, Transition, State\n",
        "\n",
        "import matplotlib.pyplot as plt\n",
        "from math import pi, atan"
      ]
    },
    {
      "cell_type": "code",
      "execution_count": 3,
      "metadata": {},
      "outputs": [],
      "source": [
        "from atomphys.data.nist import fetch_states\n",
        "\n",
        "# fetch_states('ca ii', refresh_cache=True)"
      ]
    },
    {
      "cell_type": "code",
      "execution_count": 4,
      "metadata": {},
      "outputs": [],
      "source": [
        "ca = Atom(\"Ca+\")"
      ]
    },
    {
      "cell_type": "code",
      "execution_count": 5,
      "metadata": {},
      "outputs": [
        {
          "data": {
            "text/plain": [
              "4 States (\n",
              "State(3D3/2, 2D3/2: 0.1244 Ry)\n",
              "State(3D5/2, 2D5/2: 0.1249 Ry)\n",
              "State(4P1/2, 2P1/2: 0.2296 Ry)\n",
              "State(4P3/2, 2P3/2: 0.2316 Ry))"
            ]
          },
          "execution_count": 5,
          "metadata": {},
          "output_type": "execute_result"
        }
      ],
      "source": [
        "ca.states[0].states"
      ]
    },
    {
      "cell_type": "code",
      "execution_count": 6,
      "metadata": {},
      "outputs": [],
      "source": [
        "u = ca.units\n",
        "u.define('planck_terahertz = planck_constant * THz = hTHz')"
      ]
    },
    {
      "cell_type": "code",
      "execution_count": 7,
      "metadata": {},
      "outputs": [],
      "source": [
        "u.setup_matplotlib()"
      ]
    },
    {
      "cell_type": "code",
      "execution_count": 8,
      "metadata": {},
      "outputs": [
        {
          "data": {
            "text/html": [
              "ℎ"
            ],
            "text/latex": [
              "$\\mathrm{ℎ}$"
            ],
            "text/plain": [
              "<Unit('planck_constant')>"
            ]
          },
          "execution_count": 8,
          "metadata": {},
          "output_type": "execute_result"
        }
      ],
      "source": [
        "u.planck_constant"
      ]
    },
    {
      "cell_type": "code",
      "execution_count": 12,
      "metadata": {},
      "outputs": [
        {
          "data": {
            "text/html": [
              "164786.0850962732 nm"
            ],
            "text/latex": [
              "$164786.0850962732\\ \\mathrm{nm}$"
            ],
            "text/plain": [
              "164786.0850962732 <Unit('nanometer')>"
            ]
          },
          "execution_count": 12,
          "metadata": {},
          "output_type": "execute_result"
        }
      ],
      "source": [
        "tt = ca.transitions[0]\n",
        "tt.wavelength"
      ]
    },
    {
      "cell_type": "code",
      "execution_count": 11,
      "metadata": {},
      "outputs": [
        {
          "data": {
            "text/plain": [
              "Transition(3D3/2, 2D3/2 <--> 3D5/2, 2D5/2 : λ=1.6479×10⁵ nm, Γ=2π×384 nHz)"
            ]
          },
          "execution_count": 11,
          "metadata": {},
          "output_type": "execute_result"
        }
      ],
      "source": [
        "tt"
      ]
    },
    {
      "cell_type": "code",
      "execution_count": 10,
      "metadata": {},
      "outputs": [],
      "source": [
        "tr_729 = ca.transitions(729. * u.nm)"
      ]
    },
    {
      "cell_type": "code",
      "execution_count": null,
      "metadata": {},
      "outputs": [],
      "source": [
        "s_d52 = tr_729.state_f"
      ]
    },
    {
      "cell_type": "code",
      "execution_count": null,
      "metadata": {},
      "outputs": [],
      "source": [
        "s_d52.quantum_numbers"
      ]
    },
    {
      "cell_type": "code",
      "execution_count": null,
      "metadata": {},
      "outputs": [],
      "source": [
        "yb = Atom('Yb+')"
      ]
    },
    {
      "cell_type": "code",
      "execution_count": null,
      "metadata": {},
      "outputs": [],
      "source": [
        "def tr_wavelength(state_i, state_f):\n",
        "    de = state_f.energy - state_i.energy\n",
        "    freq = de / u.planck_constant\n",
        "    wl = (u.c / freq).to('nm') if freq > 0 else None\n",
        "    return wl\n",
        "\n",
        "def find_transition_candidate(atom, wavelength, precision=None, state_i=None):\n",
        "    tr_energy = u.planck_constant * u.c / wavelength\n",
        "    states = atom.states if state_i is None else [atom.states(state_i)]\n",
        "    states_f = []\n",
        "    for state_i in states:\n",
        "        state_f = atom.states(state_i.energy + tr_energy)\n",
        "        wl = tr_wavelength(state_i, state_f)\n",
        "        if wl is not None:\n",
        "            if precision is not None and abs(wavelength - wl) > precision:\n",
        "                continue\n",
        "            print(state_i, state_f, wl)\n",
        "            states_f.append(state_f)\n",
        "    return states_f\n",
        "        \n",
        "f1 = find_transition_candidate(yb, 638 * u.nm, state_i='2F7/2')[0]\n",
        "print('---')\n",
        "f2 = find_transition_candidate(yb, 935 * u.nm, state_i='2D3/2')[0]\n",
        "print('---')\n",
        "find_transition_candidate(yb, 935 * u.nm, precision=0.3 * u.nm);\n",
        "print('---')"
      ]
    },
    {
      "cell_type": "code",
      "execution_count": null,
      "metadata": {},
      "outputs": [],
      "source": [
        "_t = Transition(state_i=yb('2F7/2'), state_f=f1, atom=yb);  #, Gamma = 1 / yb('[3/2]1/2').lifetime)\n",
        "yb.transitions.append(_t)\n",
        "\n",
        "_t = Transition(state_i=yb('2D3/2'), state_f=f2, atom=yb);  #, Gamma = 1 / yb('[3/2]1/2').lifetime)\n",
        "yb.transitions.append(_t)\n"
      ]
    },
    {
      "cell_type": "code",
      "execution_count": null,
      "metadata": {},
      "outputs": [],
      "source": [
        "yb.transitions"
      ]
    },
    {
      "cell_type": "code",
      "execution_count": null,
      "metadata": {},
      "outputs": [],
      "source": [
        "be = Atom('Be+')"
      ]
    },
    {
      "cell_type": "code",
      "execution_count": null,
      "metadata": {},
      "outputs": [],
      "source": [
        "ba = Atom('Ba+')"
      ]
    },
    {
      "cell_type": "code",
      "execution_count": null,
      "metadata": {},
      "outputs": [],
      "source": [
        "from matplotlib import patches as mpatches\n",
        "\n",
        "import matplotlib.colors\n",
        "\n",
        "\n",
        "def _wavelength_to_rgb(wavelength, gamma=0.8):\n",
        "    ''' taken from http://www.noah.org/wiki/Wavelength_to_RGB_in_Python\n",
        "    This converts a given wavelength of light to an \n",
        "    approximate RGB color value. The wavelength must be given\n",
        "    in nanometers in the range from 380 nm through 750 nm\n",
        "    (789 THz through 400 THz).\n",
        "\n",
        "    Based on code by Dan Bruton\n",
        "    http://www.physics.sfasu.edu/astro/color/spectra.html\n",
        "    Additionally alpha value set to 0.5 outside range\n",
        "    \n",
        "    https://stackoverflow.com/a/44960748\n",
        "    '''\n",
        "    wavelength = float(wavelength)\n",
        "    if wavelength >= 380 and wavelength <= 750:\n",
        "        A = 1.\n",
        "    else:\n",
        "        A=0.5\n",
        "    if wavelength < 380:\n",
        "        wavelength = 380.\n",
        "    if wavelength >750:\n",
        "        wavelength = 750.\n",
        "    if wavelength >= 380 and wavelength <= 440:\n",
        "        attenuation = 0.3 + 0.7 * (wavelength - 380) / (440 - 380)\n",
        "        R = ((-(wavelength - 440) / (440 - 380)) * attenuation) ** gamma\n",
        "        G = 0.0\n",
        "        B = (1.0 * attenuation) ** gamma\n",
        "    elif wavelength >= 440 and wavelength <= 490:\n",
        "        R = 0.0\n",
        "        G = ((wavelength - 440) / (490 - 440)) ** gamma\n",
        "        B = 1.0\n",
        "    elif wavelength >= 490 and wavelength <= 510:\n",
        "        R = 0.0\n",
        "        G = 1.0\n",
        "        B = (-(wavelength - 510) / (510 - 490)) ** gamma\n",
        "    elif wavelength >= 510 and wavelength <= 580:\n",
        "        R = ((wavelength - 510) / (580 - 510)) ** gamma\n",
        "        G = 1.0\n",
        "        B = 0.0\n",
        "    elif wavelength >= 580 and wavelength <= 645:\n",
        "        R = 1.0\n",
        "        G = (-(wavelength - 645) / (645 - 580)) ** gamma\n",
        "        B = 0.0\n",
        "    elif wavelength >= 645 and wavelength <= 750:\n",
        "        attenuation = 0.3 + 0.7 * (750 - wavelength) / (750 - 645)\n",
        "        R = (1.0 * attenuation) ** gamma\n",
        "        G = 0.0\n",
        "        B = 0.0\n",
        "    else:\n",
        "        R = 0.0\n",
        "        G = 0.0\n",
        "        B = 0.0\n",
        "    return (R,G,B,A)\n",
        "\n",
        "\n",
        "def _get_state_anchor(state, energy_units):\n",
        "    e = state.energy.to(energy_units).m\n",
        "    qn = state.quantum_numbers\n",
        "    L = qn.get('L', qn.get('K'))\n",
        "#     L = 1 if L == 0 else L\n",
        "    e = 1 if e == 0 else e\n",
        "    anchor = (L, e)\n",
        "    return anchor\n",
        "    \n",
        "\n",
        "def plot_state(ax, state: State, energy_units='hTHz'):\n",
        "    name = state.name\n",
        "    anchor = _get_state_anchor(state, energy_units)\n",
        "    width, height = 0.9, 0\n",
        "    xy = (anchor[0] - width / 2, anchor[1])\n",
        "    patch = mpatches.Rectangle(xy, width, height, ec='k', fc='none')\n",
        "    ax.add_patch(patch)\n",
        "    ax.relim()\n",
        "    ax.autoscale_view()\n",
        "    ax.text(anchor[0], anchor[1] + 0.005, name, ha='center', va='bottom')\n",
        "    \n",
        "def plot_transition(ax, tr: Transition, energy_units='hTHz'):\n",
        "    si, sf = tr.state_i, tr.state_f\n",
        "    wl = (u.c / tr.energy * u.planck_constant).to('nm')\n",
        "    color = _wavelength_to_rgb(wl.m)\n",
        "    ai = _get_state_anchor(si, energy_units)\n",
        "    af = _get_state_anchor(sf, energy_units)\n",
        "    dx = af[0] - ai[0]\n",
        "    dy = af[1] - ai[1]\n",
        "    midpoint = ai[0] + dx/2, ai[1] + dy/2\n",
        "    angle = atan(dy / dx) * 180 / pi if dx != 0 else 90\n",
        "    arrow = mpatches.Arrow(*ai, dx, dy, color=color, width=0.1)\n",
        "    th2 = ax.text(*midpoint, wl, ha='center', va='center',\n",
        "            rotation=angle, rotation_mode='anchor',\n",
        "            transform_rotates_text=True)\n",
        "    ax.add_patch(arrow)\n",
        "    ax.relim()\n",
        "    ax.autoscale_view()\n",
        "\n",
        "    \n",
        "atom = yb\n",
        "states = [s for s in atom.states if s.energy < 1000 * u('hTHz')]\n",
        "\n",
        "fig, ax = plt.subplots()\n",
        "for s in states:\n",
        "    plot_state(ax, s)\n",
        "    \n",
        "for tr in atom.states[0].transitions + atom.states('D5/2').transitions[1:2]:\n",
        "    plot_transition(ax, tr)"
      ]
    },
    {
      "cell_type": "code",
      "execution_count": null,
      "metadata": {
        "scrolled": false
      },
      "outputs": [],
      "source": [
        "fig, axes = plt.subplots(1, 3, figsize=(16, 4), sharex=True, sharey=True)\n",
        "\n",
        "def plot_atom(ax, atom):\n",
        "    states = [s for s in atom.states if s.energy < 1000 * u('hTHz')]\n",
        "    for s in states:\n",
        "        plot_state(ax, s)\n",
        "    \n",
        "    transitions = [tr for tr in atom.states[0].transitions if tr.energy < 1000 * u('hTHz')]    \n",
        "    for tr in transitions:\n",
        "        plot_transition(ax, tr)\n",
        "    \n",
        "    \n",
        "for ax, atom in zip(axes, [ca, yb, ba]):\n",
        "    plot_atom(ax, atom)\n",
        "    ax.set_title(atom.name)\n",
        "ax.set_yscale('log')"
      ]
    },
    {
      "cell_type": "code",
      "execution_count": null,
      "metadata": {},
      "outputs": [],
      "source": []
    },
    {
      "cell_type": "code",
      "execution_count": null,
      "metadata": {},
      "outputs": [],
      "source": [
        "yb.transitions(u.planck_constant * u.c / (935 * u.nm))"
      ]
    },
    {
      "cell_type": "code",
      "execution_count": null,
      "metadata": {},
      "outputs": [],
      "source": [
        "yb.states(0.19 * u.E_h)"
      ]
    },
    {
      "cell_type": "code",
      "execution_count": null,
      "metadata": {},
      "outputs": [],
      "source": [
        "yb.transitions(935.)"
      ]
    },
    {
      "cell_type": "code",
      "execution_count": null,
      "metadata": {},
      "outputs": [],
      "source": [
        "yb('[3/2]1/2').transitions[1].matrix_element"
      ]
    },
    {
      "cell_type": "code",
      "execution_count": null,
      "metadata": {},
      "outputs": [],
      "source": [
        "gamma = 1 / s.lifetime"
      ]
    },
    {
      "cell_type": "code",
      "execution_count": null,
      "metadata": {
        "scrolled": false
      },
      "outputs": [],
      "source": [
        "[print(s.name, tr_wavelength(yb('2D3/2'), s)) for s in yb.states if '[3/2]' in s.name];"
      ]
    },
    {
      "cell_type": "code",
      "execution_count": null,
      "metadata": {},
      "outputs": [],
      "source": [
        "yb('3[3/2]1/2')"
      ]
    },
    {
      "cell_type": "code",
      "execution_count": null,
      "metadata": {},
      "outputs": [],
      "source": [
        "from atomphys import Transition"
      ]
    },
    {
      "cell_type": "code",
      "execution_count": null,
      "metadata": {},
      "outputs": [],
      "source": [
        "((yb('3[3/2]5/2').energy / u.planck_constant) + (u.c / (935*u.nm))).to('THz')"
      ]
    },
    {
      "cell_type": "code",
      "execution_count": null,
      "metadata": {},
      "outputs": [],
      "source": []
    },
    {
      "cell_type": "code",
      "execution_count": null,
      "metadata": {},
      "outputs": [],
      "source": []
    },
    {
      "cell_type": "code",
      "execution_count": null,
      "metadata": {},
      "outputs": [],
      "source": [
        "tr_wavelength(yb('2D3/2'), yb('3[3/2]5/2'))"
      ]
    },
    {
      "cell_type": "code",
      "execution_count": null,
      "metadata": {},
      "outputs": [],
      "source": [
        "tr_wavelength(yb.states[0], yb('2D3/2'))"
      ]
    },
    {
      "cell_type": "code",
      "execution_count": null,
      "metadata": {},
      "outputs": [],
      "source": [
        "[print(s) for s in yb.states[:10]];"
      ]
    },
    {
      "cell_type": "code",
      "execution_count": null,
      "metadata": {},
      "outputs": [],
      "source": [
        "u('speed_of_light').to_base_units()"
      ]
    },
    {
      "cell_type": "code",
      "execution_count": null,
      "metadata": {},
      "outputs": [],
      "source": [
        "(atom.states[1].energy / u.dirac_constant).to('THz')"
      ]
    },
    {
      "cell_type": "code",
      "execution_count": null,
      "metadata": {},
      "outputs": [],
      "source": [
        "(atom.states[1].energy / (2*pi*u.dirac_constant)).to(\"THz\")"
      ]
    },
    {
      "cell_type": "code",
      "execution_count": null,
      "metadata": {},
      "outputs": [],
      "source": []
    },
    {
      "cell_type": "code",
      "execution_count": null,
      "metadata": {},
      "outputs": [],
      "source": [
        "(u.c / (300 * u.nm)).to('THz')"
      ]
    },
    {
      "cell_type": "code",
      "execution_count": null,
      "metadata": {},
      "outputs": [],
      "source": [
        "s0.up"
      ]
    },
    {
      "cell_type": "code",
      "execution_count": null,
      "metadata": {},
      "outputs": [],
      "source": [
        "s1 = yb.states[0]"
      ]
    },
    {
      "cell_type": "code",
      "execution_count": null,
      "metadata": {},
      "outputs": [],
      "source": [
        "s1.quantum_numbers"
      ]
    },
    {
      "cell_type": "code",
      "execution_count": null,
      "metadata": {},
      "outputs": [],
      "source": [
        "qn = state.quantum_numbers"
      ]
    },
    {
      "cell_type": "code",
      "execution_count": null,
      "metadata": {},
      "outputs": [],
      "source": [
        "qn.get('L', qn.get('K'))"
      ]
    },
    {
      "cell_type": "code",
      "execution_count": null,
      "metadata": {},
      "outputs": [],
      "source": [
        "yb.states[0].quantum_numbers"
      ]
    },
    {
      "cell_type": "code",
      "execution_count": null,
      "metadata": {},
      "outputs": [],
      "source": [
        "for s in yb.states[:10]:\n",
        "    print(s.name, s.quantum_numbers)"
      ]
    },
    {
      "cell_type": "code",
      "execution_count": null,
      "metadata": {},
      "outputs": [],
      "source": []
    },
    {
      "cell_type": "code",
      "execution_count": null,
      "metadata": {},
      "outputs": [],
      "source": []
    }
  ],
  "metadata": {
    "kernelspec": {
      "display_name": "Python 3 (ipykernel)",
      "language": "python",
      "name": "python3"
    },
    "language_info": {
      "codemirror_mode": {
        "name": "ipython",
        "version": 3
      },
      "file_extension": ".py",
      "mimetype": "text/x-python",
      "name": "python",
      "nbconvert_exporter": "python",
      "pygments_lexer": "ipython3",
      "version": "3.10.4"
    },
    "vscode": {
      "interpreter": {
        "hash": "91249f650c08f66b859a002bf164378435a08fb1f34b8d0fd6d8e80615588ec2"
      }
    }
  },
  "nbformat": 4,
  "nbformat_minor": 2
}
