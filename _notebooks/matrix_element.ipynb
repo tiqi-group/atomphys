{
 "cells": [
  {
   "cell_type": "code",
   "execution_count": 4,
   "metadata": {},
   "outputs": [],
   "source": [
    "%reload_ext autoreload\n",
    "%autoreload 2"
   ]
  },
  {
   "cell_type": "code",
   "execution_count": 5,
   "metadata": {},
   "outputs": [],
   "source": [
    "import atomphys\n",
    "from atomphys import Atom, State\n",
    "from math import pi, sqrt\n",
    "\n",
    "import pint\n",
    "_ureg = pint.get_application_registry()"
   ]
  },
  {
   "cell_type": "code",
   "execution_count": 3,
   "metadata": {},
   "outputs": [
    {
     "data": {
      "text/html": [
       "ε_0"
      ],
      "text/latex": [
       "$\\mathrm{ε\\_0}$"
      ],
      "text/plain": [
       "<Unit('vacuum_permittivity')>"
      ]
     },
     "execution_count": 3,
     "metadata": {},
     "output_type": "execute_result"
    }
   ],
   "source": [
    "_ureg.epsilon_0"
   ]
  },
  {
   "cell_type": "code",
   "execution_count": 4,
   "metadata": {},
   "outputs": [
    {
     "name": "stdout",
     "output_type": "stream",
     "text": [
      "Loading atom Ca+\n",
      "Added 72 states\n",
      "Added 99 transitions\n"
     ]
    }
   ],
   "source": [
    "ca = Atom.from_nist('Ca+')"
   ]
  },
  {
   "cell_type": "code",
   "execution_count": 5,
   "metadata": {},
   "outputs": [
    {
     "data": {
      "text/plain": [
       "{}"
      ]
     },
     "execution_count": 5,
     "metadata": {},
     "output_type": "execute_result"
    }
   ],
   "source": [
    "s0 = ca.states[0]\n",
    "s0.transitions_to"
   ]
  },
  {
   "cell_type": "code",
   "execution_count": 6,
   "metadata": {},
   "outputs": [],
   "source": [
    "sx = State('comf', '1S0', \"0\")"
   ]
  },
  {
   "cell_type": "code",
   "execution_count": 7,
   "metadata": {},
   "outputs": [
    {
     "name": "stdout",
     "output_type": "stream",
     "text": [
      "State(3p6.4p 2P*1/2 0.2296 Ry)\n"
     ]
    },
    {
     "data": {
      "text/html": [
       "23.968734429639436 MHz"
      ],
      "text/latex": [
       "$23.968734429639436\\ \\mathrm{MHz}$"
      ],
      "text/plain": [
       "23.968734429639436 <Unit('megahertz')>"
      ]
     },
     "execution_count": 7,
     "metadata": {},
     "output_type": "execute_result"
    }
   ],
   "source": [
    "s = ca.states[3]\n",
    "print(s)\n",
    "s.Gamma"
   ]
  },
  {
   "cell_type": "code",
   "execution_count": 8,
   "metadata": {},
   "outputs": [
    {
     "data": {
      "text/plain": [
       "{State(3p6.4s 2S1/2 0 Ry): Transition(3p6.4s 2S1/2 --> 3p6.4p 2P*1/2 397 nm (E1)),\n",
       " State(3p6.3d 2D3/2 0.1244 Ry): Transition(3p6.3d 2D3/2 --> 3p6.4p 2P*1/2 866 nm (E1))}"
      ]
     },
     "execution_count": 8,
     "metadata": {},
     "output_type": "execute_result"
    }
   ],
   "source": [
    "s.transitions_to"
   ]
  },
  {
   "cell_type": "code",
   "execution_count": 9,
   "metadata": {},
   "outputs": [
    {
     "data": {
      "text/plain": [
       "{State(3p6.4s 2S1/2 0 Ry): 0.9296148738379815,\n",
       " State(3p6.3d 2D3/2 0.1244 Ry): 0.0703851261620186}"
      ]
     },
     "execution_count": 9,
     "metadata": {},
     "output_type": "execute_result"
    }
   ],
   "source": [
    "s.decay_branching_ratios"
   ]
  },
  {
   "cell_type": "code",
   "execution_count": 10,
   "metadata": {},
   "outputs": [
    {
     "data": {
      "text/html": [
       "6.640106241699867×10<sup>-9</sup> s"
      ],
      "text/latex": [
       "$6.640106241699867\\times 10^{-9}\\ \\mathrm{s}$"
      ],
      "text/plain": [
       "6.640106241699867e-09 <Unit('second')>"
      ]
     },
     "execution_count": 10,
     "metadata": {},
     "output_type": "execute_result"
    }
   ],
   "source": [
    "s.lifetime"
   ]
  },
  {
   "cell_type": "code",
   "execution_count": 11,
   "metadata": {},
   "outputs": [
    {
     "data": {
      "text/plain": [
       "Transition(3p6.4s 2S1/2 --> 3p6.4p 2P*1/2 397 nm (E1))"
      ]
     },
     "execution_count": 11,
     "metadata": {},
     "output_type": "execute_result"
    }
   ],
   "source": [
    "tr = ca.transitions[1]\n",
    "tr"
   ]
  },
  {
   "cell_type": "code",
   "execution_count": 12,
   "metadata": {},
   "outputs": [
    {
     "data": {
      "text/html": [
       "22.281692032865347 MHz"
      ],
      "text/latex": [
       "$22.281692032865347\\ \\mathrm{MHz}$"
      ],
      "text/plain": [
       "22.281692032865347 <Unit('megahertz')>"
      ]
     },
     "execution_count": 12,
     "metadata": {},
     "output_type": "execute_result"
    }
   ],
   "source": [
    "tr.Gamma"
   ]
  },
  {
   "cell_type": "code",
   "execution_count": 13,
   "metadata": {},
   "outputs": [
    {
     "data": {
      "text/html": [
       "140000000.0 1/s"
      ],
      "text/latex": [
       "$140000000.0\\ \\frac{1}{\\mathrm{s}}$"
      ],
      "text/plain": [
       "140000000.0 <Unit('1 / second')>"
      ]
     },
     "execution_count": 13,
     "metadata": {},
     "output_type": "execute_result"
    }
   ],
   "source": [
    "tr.A"
   ]
  },
  {
   "cell_type": "code",
   "execution_count": 14,
   "metadata": {},
   "outputs": [
    {
     "data": {
      "text/html": [
       "ε_0"
      ],
      "text/latex": [
       "$\\mathrm{ε\\_0}$"
      ],
      "text/plain": [
       "<Unit('vacuum_permittivity')>"
      ]
     },
     "execution_count": 14,
     "metadata": {},
     "output_type": "execute_result"
    }
   ],
   "source": [
    "_ureg.epsilon_0"
   ]
  },
  {
   "cell_type": "code",
   "execution_count": 15,
   "metadata": {},
   "outputs": [
    {
     "data": {
      "text/html": [
       "ħ"
      ],
      "text/latex": [
       "$\\mathrm{ħ}$"
      ],
      "text/plain": [
       "<Unit('dirac_constant')>"
      ]
     },
     "execution_count": 15,
     "metadata": {},
     "output_type": "execute_result"
    }
   ],
   "source": [
    "_ureg.hbar"
   ]
  },
  {
   "cell_type": "code",
   "execution_count": 6,
   "metadata": {},
   "outputs": [
    {
     "ename": "NameError",
     "evalue": "name 'tr' is not defined",
     "output_type": "error",
     "traceback": [
      "\u001b[1;31m---------------------------------------------------------------------------\u001b[0m",
      "\u001b[1;31mNameError\u001b[0m                                 Traceback (most recent call last)",
      "Cell \u001b[1;32mIn[6], line 3\u001b[0m\n\u001b[0;32m      1\u001b[0m \u001b[39mfrom\u001b[39;00m \u001b[39matomphys\u001b[39;00m\u001b[39m.\u001b[39;00m\u001b[39mcalc\u001b[39;00m \u001b[39mimport\u001b[39;00m matrix_element \u001b[39mas\u001b[39;00m mx\n\u001b[1;32m----> 3\u001b[0m A \u001b[39m=\u001b[39m tr\u001b[39m.\u001b[39mA\n\u001b[0;32m      4\u001b[0m wl \u001b[39m=\u001b[39m tr\u001b[39m.\u001b[39mwavelength\n\u001b[0;32m      5\u001b[0m mx\u001b[39m.\u001b[39mreduced_dipole_matrix_element(A, wl, tr\u001b[39m.\u001b[39m_ureg)\u001b[39m.\u001b[39mto(\u001b[39m'\u001b[39m\u001b[39me a0\u001b[39m\u001b[39m'\u001b[39m)\n",
      "\u001b[1;31mNameError\u001b[0m: name 'tr' is not defined"
     ]
    }
   ],
   "source": [
    "from atomphys.calc import matrix_element as mx\n",
    "\n",
    "A = tr.A\n",
    "wl = tr.wavelength\n",
    "mx.reduced_dipole_matrix_element(A, wl, tr._ureg).to('e a0')"
   ]
  },
  {
   "cell_type": "code",
   "execution_count": null,
   "metadata": {},
   "outputs": [
    {
     "data": {
      "text/html": [
       "2866.049631779207 a_0<sup>2</sup> e"
      ],
      "text/latex": [
       "$2866.049631779207\\ \\mathrm{a\\_0}^{2} \\cdot \\mathrm{e}$"
      ],
      "text/plain": [
       "2866.049631779207 <Unit('bohr ** 2 * elementary_charge')>"
      ]
     },
     "execution_count": 17,
     "metadata": {},
     "output_type": "execute_result"
    }
   ],
   "source": [
    "mx.reduced_quadrupole_matrix_element(A, wl, tr._ureg).to('e a0**2')\n"
   ]
  },
  {
   "cell_type": "code",
   "execution_count": 7,
   "metadata": {},
   "outputs": [],
   "source": [
    "from atomphys.electric_field import PlaneWaveElectricField\n",
    "import numpy as np"
   ]
  },
  {
   "cell_type": "code",
   "execution_count": 8,
   "metadata": {},
   "outputs": [],
   "source": [
    "efield = PlaneWaveElectricField(10, (1, 0, 0), (0, 0, 1), 729)"
   ]
  },
  {
   "cell_type": "code",
   "execution_count": 9,
   "metadata": {},
   "outputs": [],
   "source": [
    "x = np.linspace(0, 20) * _ureg('nm')"
   ]
  },
  {
   "cell_type": "code",
   "execution_count": 10,
   "metadata": {},
   "outputs": [
    {
     "data": {
      "text/plain": [
       "(50, 3)"
      ]
     },
     "execution_count": 10,
     "metadata": {},
     "output_type": "execute_result"
    }
   ],
   "source": [
    "efield.field(x, 0, 0).shape"
   ]
  },
  {
   "cell_type": "code",
   "execution_count": 11,
   "metadata": {},
   "outputs": [
    {
     "data": {
      "text/html": [
       "(1+0j)"
      ],
      "text/latex": [
       "$(1+0j)\\$"
      ],
      "text/plain": [
       "(1+0j) <Unit('dimensionless')>"
      ]
     },
     "execution_count": 11,
     "metadata": {},
     "output_type": "execute_result"
    }
   ],
   "source": [
    "efield._phase([0, 0, 0])"
   ]
  },
  {
   "cell_type": "code",
   "execution_count": 12,
   "metadata": {},
   "outputs": [
    {
     "data": {
      "text/plain": [
       "(50, 3, 3)"
      ]
     },
     "execution_count": 12,
     "metadata": {},
     "output_type": "execute_result"
    }
   ],
   "source": [
    "efield.gradient(x, 0, 0).shape"
   ]
  },
  {
   "cell_type": "code",
   "execution_count": 13,
   "metadata": {},
   "outputs": [
    {
     "data": {
      "text/html": [
       "<table><tbody><tr><th>Magnitude</th><td style='text-align:left;'><pre>[0.0 0.0 8618909.88639175]</pre></td></tr><tr><th>Units</th><td style='text-align:left;'>1/m</td></tr></tbody></table>"
      ],
      "text/latex": [
       "$\\begin{pmatrix} &  & \\end{pmatrix}\\ \\frac{1}{\\mathrm{m}}$"
      ],
      "text/plain": [
       "array([      0.        ,       0.        , 8618909.88639175]) <Unit('1 / meter')>"
      ]
     },
     "execution_count": 13,
     "metadata": {},
     "output_type": "execute_result"
    }
   ],
   "source": [
    "efield.wavevector"
   ]
  },
  {
   "cell_type": "code",
   "execution_count": 14,
   "metadata": {},
   "outputs": [],
   "source": [
    "e2 = PlaneWaveElectricField(10, (1, 0, 0), (0, 0, -1), 729)\n",
    "\n",
    "ee = efield + e2\n",
    "\n"
   ]
  },
  {
   "cell_type": "code",
   "execution_count": 16,
   "metadata": {},
   "outputs": [],
   "source": [
    "alpha = np.deg2rad(37)\n",
    "\n",
    "standing_wave = PlaneWaveElectricField(10, (0, 1, 0), (np.sin(alpha), 0, np.cos(alpha)), 729) + \\\n",
    "    PlaneWaveElectricField(10, (0, 1, 0), (-np.sin(alpha), 0, np.cos(alpha)), 729)\n"
   ]
  },
  {
   "cell_type": "code",
   "execution_count": 27,
   "metadata": {},
   "outputs": [
    {
     "data": {
      "text/plain": [
       "<matplotlib.contour.QuadContourSet at 0x257359840d0>"
      ]
     },
     "execution_count": 27,
     "metadata": {},
     "output_type": "execute_result"
    },
    {
     "data": {
      "image/png": "[encoded data removed]",
      "text/plain": [
       "<Figure size 640x480 with 1 Axes>"
      ]
     },
     "metadata": {},
     "output_type": "display_data"
    }
   ],
   "source": [
    "import matplotlib.pyplot as plt\n",
    "_ureg.setup_matplotlib()\n",
    "\n",
    "x = np.linspace(-5, 5, 500) * _ureg('um')\n",
    "z = np.linspace(0, 5, 500) * _ureg('um')\n",
    "\n",
    "X, Z = np.meshgrid(x, z)\n",
    "\n",
    "E = standing_wave.field(X, 0, Z)\n",
    "\n",
    "# plt.plot(z, abs(E[..., 1])**2)\n",
    "plt.contourf(X, Z, abs(E[..., 1])**2, cmap='inferno')\n"
   ]
  },
  {
   "cell_type": "code",
   "execution_count": 21,
   "metadata": {},
   "outputs": [
    {
     "data": {
      "text/plain": [
       "(500, 500, 3, 3)"
      ]
     },
     "execution_count": 21,
     "metadata": {},
     "output_type": "execute_result"
    }
   ],
   "source": [
    "standing_wave.gradient(X, 0, Z).shape\n"
   ]
  },
  {
   "cell_type": "code",
   "execution_count": 124,
   "metadata": {},
   "outputs": [
    {
     "data": {
      "text/plain": [
       "[<matplotlib.lines.Line2D at 0x22433bca860>]"
      ]
     },
     "execution_count": 124,
     "metadata": {},
     "output_type": "execute_result"
    },
    {
     "data": {
      "image/png": "[encoded data removed]",
      "text/plain": [
       "<Figure size 640x480 with 1 Axes>"
      ]
     },
     "metadata": {},
     "output_type": "display_data"
    }
   ],
   "source": [
    "p = efield.phase(0, 0, z)\n",
    "plt.plot(z, p.real)"
   ]
  },
  {
   "cell_type": "code",
   "execution_count": null,
   "metadata": {},
   "outputs": [],
   "source": []
  },
  {
   "cell_type": "code",
   "execution_count": 45,
   "metadata": {},
   "outputs": [
    {
     "data": {
      "text/plain": [
       "array([[-0.05286086, -0.11038127, -2.18087252],\n",
       "       [ 0.84658337,  0.28754204, -0.16786486],\n",
       "       [-0.64861791,  0.15875796, -0.0843467 ]])"
      ]
     },
     "execution_count": 45,
     "metadata": {},
     "output_type": "execute_result"
    }
   ],
   "source": [
    "import numpy as np\n",
    "\n",
    "C = np.random.randn(3, 3)\n",
    "C"
   ]
  },
  {
   "cell_type": "code",
   "execution_count": 48,
   "metadata": {},
   "outputs": [
    {
     "data": {
      "text/html": [
       "(7428560762974143+0j) V<sup>2</sup>/m<sup>4</sup>"
      ],
      "text/latex": [
       "$(7428560762974143+0j)\\ \\frac{\\mathrm{V}^{2}}{\\mathrm{m}^{4}}$"
      ],
      "text/plain": [
       "(7428560762974143+0j) <Unit('volt ** 2 / meter ** 4')>"
      ]
     },
     "execution_count": 48,
     "metadata": {},
     "output_type": "execute_result"
    }
   ],
   "source": [
    "np.einsum('ij,ij', efield.gradient(), efield.gradient().conj())"
   ]
  },
  {
   "cell_type": "code",
   "execution_count": 27,
   "metadata": {},
   "outputs": [],
   "source": [
    "from atomphys.calc.wigner import wigner_3j\n",
    "from atomphys.calc.angular_momentum import magnetic_sublevels"
   ]
  },
  {
   "cell_type": "code",
   "execution_count": 28,
   "metadata": {},
   "outputs": [
    {
     "data": {
      "text/plain": [
       "[-1.5, -0.5, 0.5, 1.5]"
      ]
     },
     "execution_count": 28,
     "metadata": {},
     "output_type": "execute_result"
    }
   ],
   "source": [
    "magnetic_sublevels(3/2)"
   ]
  },
  {
   "cell_type": "code",
   "execution_count": 33,
   "metadata": {},
   "outputs": [
    {
     "name": "stdout",
     "output_type": "stream",
     "text": [
      "J = 1\n",
      "-2.5 -2.0 0\n",
      "-1.5 -1.0 0\n",
      "-0.5 0.0 0\n",
      "0.5 1.0 0\n",
      "1.5 2.0 0\n",
      "2.5 3.0 0\n",
      "\n",
      "J = 2\n",
      "-2.5 -2.0 0.40824829046386296\n",
      "-1.5 -1.0 -0.36514837167011077\n",
      "-0.5 0.0 0.31622776601683794\n",
      "0.5 1.0 -0.2581988897471611\n",
      "1.5 2.0 0.18257418583505539\n",
      "2.5 3.0 0\n"
     ]
    }
   ],
   "source": [
    "J1 = 1/2\n",
    "J2 = 5/2\n",
    "\n",
    "m1 = -1/2\n",
    "m2s = magnetic_sublevels(J2)\n",
    "\n",
    "J = 1\n",
    "print(\"J = 1\")\n",
    "for m2 in m2s:\n",
    "    m = m2 - m1\n",
    "    w = wigner_3j(J1, J, J2, m1, m, -m2)\n",
    "    print(m2, m, w)\n",
    "\n",
    "print()\n",
    "J = 2\n",
    "print(\"J = 2\")\n",
    "for m2 in m2s:\n",
    "    m = m2 - m1\n",
    "    w = wigner_3j(J1, J, J2, m1, m, -m2)\n",
    "    print(m2, m, w)\n"
   ]
  },
  {
   "cell_type": "code",
   "execution_count": null,
   "metadata": {},
   "outputs": [],
   "source": []
  }
 ],
 "metadata": {
  "kernelspec": {
   "display_name": ".venv",
   "language": "python",
   "name": "python3"
  },
  "language_info": {
   "codemirror_mode": {
    "name": "ipython",
    "version": 3
   },
   "file_extension": ".py",
   "mimetype": "text/x-python",
   "name": "python",
   "nbconvert_exporter": "python",
   "pygments_lexer": "ipython3",
   "version": "3.10.4"
  },
  "orig_nbformat": 4
 },
 "nbformat": 4,
 "nbformat_minor": 2
}
