{
 "cells": [
  {
   "cell_type": "code",
   "execution_count": 1,
   "metadata": {},
   "outputs": [],
   "source": [
    "%reload_ext autoreload\n",
    "%autoreload 2\n"
   ]
  },
  {
   "cell_type": "code",
   "execution_count": 2,
   "metadata": {},
   "outputs": [],
   "source": [
    "from atomphys.data import nist\n",
    "from pprint import pprint\n",
    "from atomphys.term import print_term, parse_term, QuantumNumbers\n",
    "\n",
    "from atomphys.state import State, hyperfine_manifold\n",
    "\n",
    "from pint import Quantity, get_application_registry\n",
    "\n",
    "import networkx as nx\n",
    "\n",
    "_ureg = get_application_registry()\n"
   ]
  },
  {
   "cell_type": "code",
   "execution_count": 3,
   "metadata": {},
   "outputs": [],
   "source": [
    "atom = 'Ca ii'\n",
    "all_states_data_raw = nist.fetch_states(atom, refresh_cache=False)\n",
    "all_states_data = nist.parse_states(all_states_data_raw)\n",
    "\n",
    "def _state(ix):\n",
    "    psd = all_states_data[ix]\n",
    "    return State(configuration=psd['configuration'], term=psd['term'], energy=psd['energy'])\n"
   ]
  },
  {
   "cell_type": "code",
   "execution_count": 21,
   "metadata": {},
   "outputs": [
    {
     "data": {
      "text/plain": [
       "[{'A': '2.42e+07s^-1',\n",
       "  'state_i': {'energy': '0.1243897 Ry', 'term': '2D3/2'},\n",
       "  'state_f': {'energy': '0.832333 Ry', 'term': '2F*5/2'},\n",
       "  'acc': 'C',\n",
       "  'type': ''},\n",
       " {'A': '2.58e+07s^-1',\n",
       "  'state_i': {'energy': '0.1249427 Ry', 'term': '2D5/2'},\n",
       "  'state_f': {'energy': '0.832333 Ry', 'term': '2F*7/2'},\n",
       "  'acc': 'C',\n",
       "  'type': ''},\n",
       " {'A': '1.72e+06s^-1',\n",
       "  'state_i': {'energy': '0.1249427 Ry', 'term': '2D5/2'},\n",
       "  'state_f': {'energy': '0.832333 Ry', 'term': '2F*5/2'},\n",
       "  'acc': 'C',\n",
       "  'type': ''},\n",
       " {'A': '3.28e+07s^-1',\n",
       "  'state_i': {'energy': '0.1243897 Ry', 'term': '2D3/2'},\n",
       "  'state_f': {'energy': '0.822874 Ry', 'term': '2F*5/2'},\n",
       "  'acc': 'C',\n",
       "  'type': ''}]"
      ]
     },
     "execution_count": 21,
     "metadata": {},
     "output_type": "execute_result"
    }
   ],
   "source": [
    "# Load NIST data here, but not really using them for the moment\n",
    "\n",
    "all_transitions_raw = nist.fetch_transitions(atom, refresh_cache=False)\n",
    "# all_transitions_raw = [tr for tr in all_transitions_raw if float(tr['Ei(Ry)']) == 0]\n",
    "all_transitions = nist.parse_transitions(all_transitions_raw)\n",
    "all_transitions[:4]\n"
   ]
  },
  {
   "cell_type": "code",
   "execution_count": 22,
   "metadata": {},
   "outputs": [
    {
     "data": {
      "text/plain": [
       "[State(3p6.4s 2S1/2 0 Ry),\n",
       " State(3p6.3d 2D3/2 0.1244 Ry),\n",
       " State(3p6.3d 2D5/2 0.1249 Ry),\n",
       " State(3p6.4p 2P*1/2 0.2296 Ry),\n",
       " State(3p6.4p 2P*3/2 0.2316 Ry)]"
      ]
     },
     "execution_count": 22,
     "metadata": {},
     "output_type": "execute_result"
    }
   ],
   "source": [
    "states = [_state(ix) for ix in range(5)]\n",
    "all_states = [\n",
    "    State(configuration=psd['configuration'], term=psd['term'], energy=psd['energy'])\n",
    "    for psd in all_states_data\n",
    "]\n",
    "s0, s1, s2, s3, s4 = states\n",
    "states"
   ]
  },
  {
   "cell_type": "code",
   "execution_count": 31,
   "metadata": {},
   "outputs": [
    {
     "data": {
      "text/plain": [
       "(0.1243897 <Unit('rydberg')>, 0.1244 <Unit('rydberg')>)"
      ]
     },
     "execution_count": 31,
     "metadata": {},
     "output_type": "execute_result"
    }
   ],
   "source": [
    "states[1].energy , _ureg.Quantity('0.1244 Ry')"
   ]
  },
  {
   "cell_type": "code",
   "execution_count": 32,
   "metadata": {},
   "outputs": [],
   "source": [
    "import itertools\n",
    "\n",
    "from atomphys.transition import Transition\n",
    "from atomphys.atom import Atom\n",
    "    \n",
    "\n",
    "            \n",
    "        \n",
    "\n",
    "# g = nx.DiGraph()\n",
    "# g.add_nodes_from(states)\n",
    "# g.add_edges_from([(s0, s1), (s0, s3), (s1, s3)])\n",
    "\n",
    "a = Atom()\n",
    "a.add_states(all_states)\n",
    "# a.add_states(states)\n",
    "\n",
    "possible_transitions = {Transition(*pair) for pair in itertools.combinations(a.states, 2)}\n",
    "# print({tr.wavelength for tr in possible_transitions})\n",
    "\n",
    "\n",
    "def get_transition_by_wavelength(transitions, wavelength):\n",
    "    wavelength = _ureg.Quantity(wavelength, 'nm')\n",
    "    return min(transitions, key=lambda tr: abs(tr.wavelength - wavelength))\n",
    "\n",
    "# # funky workaround\n",
    "selected_transitions = {get_transition_by_wavelength(possible_transitions, w) for w in [729, 397, 866, 854]}\n",
    "a.add_transitions(selected_transitions)\n",
    "# a.add_transitions(possible_transitions)\n",
    "\n",
    "\n",
    "g = a._graph\n",
    "\n"
   ]
  },
  {
   "cell_type": "code",
   "execution_count": 33,
   "metadata": {},
   "outputs": [
    {
     "data": {
      "text/plain": [
       "<atomphys.atom.Atom at 0x17fb561a290>"
      ]
     },
     "execution_count": 33,
     "metadata": {},
     "output_type": "execute_result"
    }
   ],
   "source": [
    "a"
   ]
  },
  {
   "cell_type": "code",
   "execution_count": 53,
   "metadata": {},
   "outputs": [
    {
     "name": "stdout",
     "output_type": "stream",
     "text": [
      "\u001b[1;31mSignature:\u001b[0m \u001b[0ma\u001b[0m\u001b[1;33m.\u001b[0m\u001b[0mget_state_by_energy\u001b[0m\u001b[1;33m(\u001b[0m\u001b[0menergy\u001b[0m\u001b[1;33m:\u001b[0m \u001b[0mstr\u001b[0m \u001b[1;33m|\u001b[0m \u001b[0mfloat\u001b[0m \u001b[1;33m|\u001b[0m \u001b[0mpint\u001b[0m\u001b[1;33m.\u001b[0m\u001b[0mregistry\u001b[0m\u001b[1;33m.\u001b[0m\u001b[0mQuantity\u001b[0m\u001b[1;33m)\u001b[0m\u001b[1;33m\u001b[0m\u001b[1;33m\u001b[0m\u001b[0m\n",
      "\u001b[1;31mDocstring:\u001b[0m <no docstring>\n",
      "\u001b[1;31mFile:\u001b[0m      c:\\users\\carmelo\\eth\\projects\\pd_traps\\deps\\atomphys\\atomphys\\atom.py\n",
      "\u001b[1;31mType:\u001b[0m      method"
     ]
    }
   ],
   "source": [
    "a.get_state_by_energy?"
   ]
  },
  {
   "cell_type": "code",
   "execution_count": 35,
   "metadata": {},
   "outputs": [
    {
     "data": {
      "text/plain": [
       "State(3p6.3d 2D3/2 0.1244 Ry)"
      ]
     },
     "execution_count": 35,
     "metadata": {},
     "output_type": "execute_result"
    }
   ],
   "source": [
    "a.get_state_by_energy('0.1 Ry')"
   ]
  },
  {
   "cell_type": "code",
   "execution_count": 36,
   "metadata": {},
   "outputs": [
    {
     "data": {
      "text/plain": [
       "[State(3p6.4s 2S1/2 0 Ry),\n",
       " State(3p6.3d 2D3/2 0.1244 Ry),\n",
       " State(3p6.3d 2D5/2 0.1249 Ry),\n",
       " State(3p6.4p 2P*1/2 0.2296 Ry),\n",
       " State(3p6.4p 2P*3/2 0.2316 Ry),\n",
       " State(3p6.5s 2S1/2 0.4754 Ry),\n",
       " State(3p6.4d 2D3/2 0.518 Ry),\n",
       " State(3p6.4d 2D5/2 0.5181 Ry),\n",
       " State(3p6.5p 2P*1/2 0.5516 Ry),\n",
       " State(3p6.5p 2P*3/2 0.5523 Ry),\n",
       " State(3p6.4f 2F*7/2 0.6202 Ry),\n",
       " State(3p6.4f 2F*5/2 0.6202 Ry),\n",
       " State(3p6.6s 2S1/2 0.6441 Ry),\n",
       " State(3p6.5d 2D3/2 0.6627 Ry),\n",
       " State(3p6.5d 2D5/2 0.6628 Ry),\n",
       " State(3p6.6p 2P*1/2 0.6788 Ry),\n",
       " State(3p6.6p 2P*3/2 0.6791 Ry),\n",
       " State(3p6.5f 2F*7/2 0.7111 Ry),\n",
       " State(3p6.5f 2F*5/2 0.7111 Ry),\n",
       " State(3p6.5g 2G7/2 0.7123 Ry),\n",
       " State(3p6.5g 2G9/2 0.7123 Ry),\n",
       " State(3p6.7s 2S1/2 0.724 Ry),\n",
       " State(3p6.6d 2D3/2 0.7338 Ry),\n",
       " State(3p6.6d 2D5/2 0.7338 Ry),\n",
       " State(3p6.6f 2F*5/2 0.7605 Ry),\n",
       " State(3p6.6f 2F*7/2 0.7605 Ry),\n",
       " State(3p6.6g 2G7/2 0.7613 Ry),\n",
       " State(3p6.6g 2G9/2 0.7613 Ry),\n",
       " State(3p6.8s 2S1/2 0.7682 Ry),\n",
       " State(3p6.7d 2D3/2 0.774 Ry),\n",
       " State(3p6.7d 2D5/2 0.774 Ry),\n",
       " State(3p6.7f 2F*5/2 0.7903 Ry),\n",
       " State(3p6.7f 2F*7/2 0.7903 Ry),\n",
       " State(3p6.7g 2G7/2 0.7908 Ry),\n",
       " State(3p6.7g 2G9/2 0.7908 Ry),\n",
       " State(3p6.9s 2S1/2 0.7952 Ry),\n",
       " State(3p6.8d 2D3/2 0.7989 Ry),\n",
       " State(3p6.8d 2D5/2 0.7989 Ry),\n",
       " State(3p6.8f 2F*7/2 0.8096 Ry),\n",
       " State(3p6.8f 2F*5/2 0.8096 Ry),\n",
       " State(3p6.8g 2G9/2 0.81 Ry),\n",
       " State(3p6.8g 2G7/2 0.81 Ry),\n",
       " State(3p6.8h 2H*11/2 0.81 Ry),\n",
       " State(3p6.8h 2H*9/2 0.81 Ry),\n",
       " State(3p6.10s 2S1/2 0.813 Ry),\n",
       " State(3p6.9d 2D3/2 0.8155 Ry),\n",
       " State(3p6.9d 2D5/2 0.8155 Ry),\n",
       " State(3p6.9f 2F*7/2 0.8229 Ry),\n",
       " State(3p6.9f 2F*5/2 0.8229 Ry),\n",
       " State(3p6.9g 2G9/2 0.8231 Ry),\n",
       " State(3p6.9g 2G7/2 0.8231 Ry),\n",
       " State(3p6.10d 2D3/2 0.827 Ry),\n",
       " State(3p6.10d 2D5/2 0.827 Ry),\n",
       " State(3p6.10f 2F*7/2 0.8323 Ry),\n",
       " State(3p6.10f 2F*5/2 0.8323 Ry),\n",
       " State(3p6.10h 2H*11/2 0.8325 Ry),\n",
       " State(3p6.10h 2H*9/2 0.8325 Ry),\n",
       " State(3p6.11d 2D5/2 0.8354 Ry),\n",
       " State(3p6.11d 2D3/2 0.8354 Ry),\n",
       " State(3p6.12d 2D5/2 0.8416 Ry),\n",
       " State(3p6.12d 2D3/2 0.8416 Ry),\n",
       " State(3p6.13d 2D3/2 0.8464 Ry),\n",
       " State(3p6.13d 2D5/2 0.8464 Ry),\n",
       " State(3p6.14d 2D3/2 0.8502 Ry),\n",
       " State(3p6.14d 2D5/2 0.8502 Ry),\n",
       " State(3p6.15d 2D5/2 0.8532 Ry),\n",
       " State(3p6.15d 2D3/2 0.8532 Ry),\n",
       " State(3p6.16d 2D5/2 0.8556 Ry),\n",
       " State(3p6.16d 2D3/2 0.8556 Ry),\n",
       " State(Ca III (3p6 1S<0>) Ionization Limit 0.8726 Ry),\n",
       " State(3p5.4s2 2P*3/2 2.073 Ry),\n",
       " State(3p5.4s2 2P*1/2 2.098 Ry)]"
      ]
     },
     "execution_count": 36,
     "metadata": {},
     "output_type": "execute_result"
    }
   ],
   "source": [
    "a.states"
   ]
  },
  {
   "cell_type": "code",
   "execution_count": 37,
   "metadata": {},
   "outputs": [
    {
     "data": {
      "text/plain": [
       "Transition(3p6.4s 2S1/2 --> 3p6.3d 2D5/2 729 nm)"
      ]
     },
     "execution_count": 37,
     "metadata": {},
     "output_type": "execute_result"
    }
   ],
   "source": [
    "a.get_transition_by_wavelength(729)"
   ]
  },
  {
   "cell_type": "code",
   "execution_count": 38,
   "metadata": {},
   "outputs": [
    {
     "data": {
      "text/plain": [
       "[Transition(3p6.4s 2S1/2 --> 3p6.3d 2D5/2 729 nm),\n",
       " Transition(3p6.4s 2S1/2 --> 3p6.4p 2P*1/2 397 nm),\n",
       " Transition(3p6.3d 2D3/2 --> 3p6.4p 2P*1/2 866 nm),\n",
       " Transition(3p6.3d 2D5/2 --> 3p6.4p 2P*3/2 854 nm)]"
      ]
     },
     "execution_count": 38,
     "metadata": {},
     "output_type": "execute_result"
    }
   ],
   "source": [
    "a.transitions"
   ]
  },
  {
   "cell_type": "code",
   "execution_count": 39,
   "metadata": {},
   "outputs": [
    {
     "data": {
      "text/plain": [
       "True"
      ]
     },
     "execution_count": 39,
     "metadata": {},
     "output_type": "execute_result"
    }
   ],
   "source": [
    "Transition(s0, s3) == Transition(s3, s0)"
   ]
  },
  {
   "cell_type": "code",
   "execution_count": 40,
   "metadata": {},
   "outputs": [],
   "source": [
    "ww = [tr.wavelength for tr in possible_transitions]\n"
   ]
  },
  {
   "cell_type": "code",
   "execution_count": 51,
   "metadata": {},
   "outputs": [
    {
     "data": {
      "image/png": "[encoded data removed]",
      "text/plain": [
       "<Figure size 640x480 with 1 Axes>"
      ]
     },
     "metadata": {},
     "output_type": "display_data"
    }
   ],
   "source": [
    "from atomphys.plot import plot_atom\n",
    "\n",
    "plot_atom(a, spread_threshold=None)"
   ]
  },
  {
   "cell_type": "code",
   "execution_count": 42,
   "metadata": {},
   "outputs": [],
   "source": [
    "# def spring_layout_y_pos(states: list[State]):\n",
    "#     pass\n",
    "\n"
   ]
  },
  {
   "cell_type": "code",
   "execution_count": 16,
   "metadata": {},
   "outputs": [
    {
     "data": {
      "text/plain": [
       "[Transition(3p6.3d 2D3/2 --> 3p6.4p 2P*1/2 866 nm)]"
      ]
     },
     "execution_count": 16,
     "metadata": {},
     "output_type": "execute_result"
    }
   ],
   "source": [
    "a.transitions_from(s1)"
   ]
  },
  {
   "cell_type": "code",
   "execution_count": 17,
   "metadata": {},
   "outputs": [
    {
     "data": {
      "text/plain": [
       "[]"
      ]
     },
     "execution_count": 17,
     "metadata": {},
     "output_type": "execute_result"
    }
   ],
   "source": [
    "a.transitions_to(s1)"
   ]
  },
  {
   "cell_type": "code",
   "execution_count": 18,
   "metadata": {},
   "outputs": [],
   "source": [
    "q = _ureg.Quantity('3P*3/2')"
   ]
  },
  {
   "cell_type": "code",
   "execution_count": 19,
   "metadata": {},
   "outputs": [
    {
     "data": {
      "text/plain": [
       "False"
      ]
     },
     "execution_count": 19,
     "metadata": {},
     "output_type": "execute_result"
    }
   ],
   "source": [
    "q.check('Ry')"
   ]
  },
  {
   "cell_type": "code",
   "execution_count": 20,
   "metadata": {},
   "outputs": [],
   "source": [
    "from atomphys.util import set_default_units"
   ]
  },
  {
   "cell_type": "code",
   "execution_count": 21,
   "metadata": {},
   "outputs": [
    {
     "ename": "UndefinedUnitError",
     "evalue": "'P3' is not defined in the unit registry",
     "output_type": "error",
     "traceback": [
      "\u001b[1;31m---------------------------------------------------------------------------\u001b[0m",
      "\u001b[1;31mUndefinedUnitError\u001b[0m                        Traceback (most recent call last)",
      "Cell \u001b[1;32mIn[21], line 1\u001b[0m\n\u001b[1;32m----> 1\u001b[0m set_default_units(\u001b[39m'\u001b[39;49m\u001b[39m3P3/2\u001b[39;49m\u001b[39m'\u001b[39;49m, \u001b[39m'\u001b[39;49m\u001b[39mRy\u001b[39;49m\u001b[39m'\u001b[39;49m)\n",
      "File \u001b[1;32m~\\eth\\projects\\pd_traps\\deps\\atomphys\\atomphys\\util.py:29\u001b[0m, in \u001b[0;36mset_default_units\u001b[1;34m(quantity, unit, _ureg)\u001b[0m\n\u001b[0;32m     27\u001b[0m \u001b[39mdef\u001b[39;00m \u001b[39mset_default_units\u001b[39m(quantity, unit, _ureg\u001b[39m=\u001b[39m_ureg):\n\u001b[0;32m     28\u001b[0m     \u001b[39mif\u001b[39;00m \u001b[39misinstance\u001b[39m(quantity, \u001b[39mstr\u001b[39m):\n\u001b[1;32m---> 29\u001b[0m         quantity \u001b[39m=\u001b[39m _ureg(quantity)\n\u001b[0;32m     30\u001b[0m     \u001b[39mif\u001b[39;00m \u001b[39mnot\u001b[39;00m \u001b[39misinstance\u001b[39m(quantity, _ureg\u001b[39m.\u001b[39mQuantity) \u001b[39mor\u001b[39;00m quantity\u001b[39m.\u001b[39mdimensionless:\n\u001b[0;32m     31\u001b[0m         quantity \u001b[39m=\u001b[39m _ureg\u001b[39m.\u001b[39mQuantity(quantity, unit)\n",
      "File \u001b[1;32mc:\\Users\\carmelo\\eth\\projects\\pd_traps\\.venv\\lib\\site-packages\\pint\\registry.py:260\u001b[0m, in \u001b[0;36mApplicationRegistry.__call__\u001b[1;34m(self, *args, **kwargs)\u001b[0m\n\u001b[0;32m    259\u001b[0m \u001b[39mdef\u001b[39;00m \u001b[39m__call__\u001b[39m(\u001b[39mself\u001b[39m, \u001b[39m*\u001b[39margs, \u001b[39m*\u001b[39m\u001b[39m*\u001b[39mkwargs):\n\u001b[1;32m--> 260\u001b[0m     \u001b[39mreturn\u001b[39;00m \u001b[39mself\u001b[39m\u001b[39m.\u001b[39m_registry(\u001b[39m*\u001b[39margs, \u001b[39m*\u001b[39m\u001b[39m*\u001b[39mkwargs)\n",
      "File \u001b[1;32mc:\\Users\\carmelo\\eth\\projects\\pd_traps\\.venv\\lib\\site-packages\\pint\\facets\\plain\\registry.py:1309\u001b[0m, in \u001b[0;36mGenericPlainRegistry.parse_expression\u001b[1;34m(self, input_string, case_sensitive, **values)\u001b[0m\n\u001b[0;32m   1306\u001b[0m \u001b[39mdef\u001b[39;00m \u001b[39m_define_op\u001b[39m(s: \u001b[39mstr\u001b[39m):\n\u001b[0;32m   1307\u001b[0m     \u001b[39mreturn\u001b[39;00m \u001b[39mself\u001b[39m\u001b[39m.\u001b[39m_eval_token(s, case_sensitive\u001b[39m=\u001b[39mcase_sensitive, \u001b[39m*\u001b[39m\u001b[39m*\u001b[39mvalues)\n\u001b[1;32m-> 1309\u001b[0m \u001b[39mreturn\u001b[39;00m build_eval_tree(gen)\u001b[39m.\u001b[39;49mevaluate(_define_op)\n",
      "File \u001b[1;32mc:\\Users\\carmelo\\eth\\projects\\pd_traps\\.venv\\lib\\site-packages\\pint\\pint_eval.py:147\u001b[0m, in \u001b[0;36mEvalTreeNode.evaluate\u001b[1;34m(self, define_op, bin_op, un_op)\u001b[0m\n\u001b[0;32m    143\u001b[0m     \u001b[39mif\u001b[39;00m op_text \u001b[39mnot\u001b[39;00m \u001b[39min\u001b[39;00m bin_op:\n\u001b[0;32m    144\u001b[0m         \u001b[39mraise\u001b[39;00m DefinitionSyntaxError(\u001b[39mf\u001b[39m\u001b[39m\"\u001b[39m\u001b[39mmissing binary operator \u001b[39m\u001b[39m'\u001b[39m\u001b[39m{\u001b[39;00mop_text\u001b[39m}\u001b[39;00m\u001b[39m'\u001b[39m\u001b[39m\"\u001b[39m)\n\u001b[0;32m    146\u001b[0m     \u001b[39mreturn\u001b[39;00m bin_op[op_text](\n\u001b[1;32m--> 147\u001b[0m         \u001b[39mself\u001b[39;49m\u001b[39m.\u001b[39;49mleft\u001b[39m.\u001b[39;49mevaluate(define_op, bin_op, un_op),\n\u001b[0;32m    148\u001b[0m         \u001b[39mself\u001b[39m\u001b[39m.\u001b[39mright\u001b[39m.\u001b[39mevaluate(define_op, bin_op, un_op),\n\u001b[0;32m    149\u001b[0m     )\n\u001b[0;32m    150\u001b[0m \u001b[39melif\u001b[39;00m \u001b[39mself\u001b[39m\u001b[39m.\u001b[39moperator:\n\u001b[0;32m    151\u001b[0m     \u001b[39massert\u001b[39;00m \u001b[39misinstance\u001b[39m(\u001b[39mself\u001b[39m\u001b[39m.\u001b[39mleft, EvalTreeNode), \u001b[39m\"\u001b[39m\u001b[39mself.left not EvalTreeNode (4)\u001b[39m\u001b[39m\"\u001b[39m\n",
      "File \u001b[1;32mc:\\Users\\carmelo\\eth\\projects\\pd_traps\\.venv\\lib\\site-packages\\pint\\pint_eval.py:148\u001b[0m, in \u001b[0;36mEvalTreeNode.evaluate\u001b[1;34m(self, define_op, bin_op, un_op)\u001b[0m\n\u001b[0;32m    143\u001b[0m     \u001b[39mif\u001b[39;00m op_text \u001b[39mnot\u001b[39;00m \u001b[39min\u001b[39;00m bin_op:\n\u001b[0;32m    144\u001b[0m         \u001b[39mraise\u001b[39;00m DefinitionSyntaxError(\u001b[39mf\u001b[39m\u001b[39m\"\u001b[39m\u001b[39mmissing binary operator \u001b[39m\u001b[39m'\u001b[39m\u001b[39m{\u001b[39;00mop_text\u001b[39m}\u001b[39;00m\u001b[39m'\u001b[39m\u001b[39m\"\u001b[39m)\n\u001b[0;32m    146\u001b[0m     \u001b[39mreturn\u001b[39;00m bin_op[op_text](\n\u001b[0;32m    147\u001b[0m         \u001b[39mself\u001b[39m\u001b[39m.\u001b[39mleft\u001b[39m.\u001b[39mevaluate(define_op, bin_op, un_op),\n\u001b[1;32m--> 148\u001b[0m         \u001b[39mself\u001b[39;49m\u001b[39m.\u001b[39;49mright\u001b[39m.\u001b[39;49mevaluate(define_op, bin_op, un_op),\n\u001b[0;32m    149\u001b[0m     )\n\u001b[0;32m    150\u001b[0m \u001b[39melif\u001b[39;00m \u001b[39mself\u001b[39m\u001b[39m.\u001b[39moperator:\n\u001b[0;32m    151\u001b[0m     \u001b[39massert\u001b[39;00m \u001b[39misinstance\u001b[39m(\u001b[39mself\u001b[39m\u001b[39m.\u001b[39mleft, EvalTreeNode), \u001b[39m\"\u001b[39m\u001b[39mself.left not EvalTreeNode (4)\u001b[39m\u001b[39m\"\u001b[39m\n",
      "File \u001b[1;32mc:\\Users\\carmelo\\eth\\projects\\pd_traps\\.venv\\lib\\site-packages\\pint\\pint_eval.py:159\u001b[0m, in \u001b[0;36mEvalTreeNode.evaluate\u001b[1;34m(self, define_op, bin_op, un_op)\u001b[0m\n\u001b[0;32m    156\u001b[0m     \u001b[39mreturn\u001b[39;00m un_op[op_text](\u001b[39mself\u001b[39m\u001b[39m.\u001b[39mleft\u001b[39m.\u001b[39mevaluate(define_op, bin_op, un_op))\n\u001b[0;32m    158\u001b[0m \u001b[39m# single value\u001b[39;00m\n\u001b[1;32m--> 159\u001b[0m \u001b[39mreturn\u001b[39;00m define_op(\u001b[39mself\u001b[39;49m\u001b[39m.\u001b[39;49mleft)\n",
      "File \u001b[1;32mc:\\Users\\carmelo\\eth\\projects\\pd_traps\\.venv\\lib\\site-packages\\pint\\facets\\plain\\registry.py:1307\u001b[0m, in \u001b[0;36mGenericPlainRegistry.parse_expression.<locals>._define_op\u001b[1;34m(s)\u001b[0m\n\u001b[0;32m   1306\u001b[0m \u001b[39mdef\u001b[39;00m \u001b[39m_define_op\u001b[39m(s: \u001b[39mstr\u001b[39m):\n\u001b[1;32m-> 1307\u001b[0m     \u001b[39mreturn\u001b[39;00m \u001b[39mself\u001b[39m\u001b[39m.\u001b[39m_eval_token(s, case_sensitive\u001b[39m=\u001b[39mcase_sensitive, \u001b[39m*\u001b[39m\u001b[39m*\u001b[39mvalues)\n",
      "File \u001b[1;32mc:\\Users\\carmelo\\eth\\projects\\pd_traps\\.venv\\lib\\site-packages\\pint\\facets\\plain\\registry.py:1216\u001b[0m, in \u001b[0;36mGenericPlainRegistry._eval_token\u001b[1;34m(self, token, case_sensitive, **values)\u001b[0m\n\u001b[0;32m   1211\u001b[0m         \u001b[39mreturn\u001b[39;00m \u001b[39mself\u001b[39m\u001b[39m.\u001b[39mQuantity(values[token_text])\n\u001b[0;32m   1212\u001b[0m     \u001b[39melse\u001b[39;00m:\n\u001b[0;32m   1213\u001b[0m         \u001b[39mreturn\u001b[39;00m \u001b[39mself\u001b[39m\u001b[39m.\u001b[39mQuantity(\n\u001b[0;32m   1214\u001b[0m             \u001b[39m1\u001b[39m,\n\u001b[0;32m   1215\u001b[0m             \u001b[39mself\u001b[39m\u001b[39m.\u001b[39mUnitsContainer(\n\u001b[1;32m-> 1216\u001b[0m                 {\u001b[39mself\u001b[39;49m\u001b[39m.\u001b[39;49mget_name(token_text, case_sensitive\u001b[39m=\u001b[39;49mcase_sensitive): \u001b[39m1\u001b[39m}\n\u001b[0;32m   1217\u001b[0m             ),\n\u001b[0;32m   1218\u001b[0m         )\n\u001b[0;32m   1219\u001b[0m \u001b[39melif\u001b[39;00m token_type \u001b[39m==\u001b[39m NUMBER:\n\u001b[0;32m   1220\u001b[0m     \u001b[39mreturn\u001b[39;00m ParserHelper\u001b[39m.\u001b[39meval_token(token, non_int_type\u001b[39m=\u001b[39m\u001b[39mself\u001b[39m\u001b[39m.\u001b[39mnon_int_type)\n",
      "File \u001b[1;32mc:\\Users\\carmelo\\eth\\projects\\pd_traps\\.venv\\lib\\site-packages\\pint\\facets\\plain\\registry.py:619\u001b[0m, in \u001b[0;36mGenericPlainRegistry.get_name\u001b[1;34m(self, name_or_alias, case_sensitive)\u001b[0m\n\u001b[0;32m    617\u001b[0m candidates \u001b[39m=\u001b[39m \u001b[39mself\u001b[39m\u001b[39m.\u001b[39mparse_unit_name(name_or_alias, case_sensitive)\n\u001b[0;32m    618\u001b[0m \u001b[39mif\u001b[39;00m \u001b[39mnot\u001b[39;00m candidates:\n\u001b[1;32m--> 619\u001b[0m     \u001b[39mraise\u001b[39;00m UndefinedUnitError(name_or_alias)\n\u001b[0;32m    621\u001b[0m prefix, unit_name, _ \u001b[39m=\u001b[39m candidates[\u001b[39m0\u001b[39m]\n\u001b[0;32m    622\u001b[0m \u001b[39mif\u001b[39;00m \u001b[39mlen\u001b[39m(candidates) \u001b[39m>\u001b[39m \u001b[39m1\u001b[39m:\n",
      "\u001b[1;31mUndefinedUnitError\u001b[0m: 'P3' is not defined in the unit registry"
     ]
    }
   ],
   "source": [
    "set_default_units('3P3/2', 'Ry')"
   ]
  },
  {
   "cell_type": "code",
   "execution_count": null,
   "metadata": {},
   "outputs": [],
   "source": [
    "from atomphys.atom import _get_state_by_name"
   ]
  },
  {
   "cell_type": "code",
   "execution_count": null,
   "metadata": {},
   "outputs": [
    {
     "data": {
      "text/plain": [
       "State(3p6.4p 2P*1/2 0.2296 Ry)"
      ]
     },
     "execution_count": 31,
     "metadata": {},
     "output_type": "execute_result"
    }
   ],
   "source": [
    "_get_state_by_name(a.states, 'p*1/2')"
   ]
  },
  {
   "cell_type": "code",
   "execution_count": null,
   "metadata": {},
   "outputs": [],
   "source": []
  }
 ],
 "metadata": {
  "kernelspec": {
   "display_name": ".venv",
   "language": "python",
   "name": "python3"
  },
  "language_info": {
   "codemirror_mode": {
    "name": "ipython",
    "version": 3
   },
   "file_extension": ".py",
   "mimetype": "text/x-python",
   "name": "python",
   "nbconvert_exporter": "python",
   "pygments_lexer": "ipython3",
   "version": "3.10.4"
  },
  "orig_nbformat": 4
 },
 "nbformat": 4,
 "nbformat_minor": 2
}
