{
 "cells": [
  {
   "cell_type": "code",
   "execution_count": 3,
   "metadata": {},
   "outputs": [],
   "source": [
    "import atomphys\n",
    "from atomphys.data_utils.load_data import from_nist, from_json"
   ]
  },
  {
   "cell_type": "markdown",
   "metadata": {},
   "source": [
    "# Initializing of an Atom object\n",
    "\n",
    "As a first step we can load an atom from the NIST database. To keep track of the units we can initialize also the unit registry that is associated with the atom."
   ]
  },
  {
   "cell_type": "code",
   "execution_count": 4,
   "metadata": {},
   "outputs": [
    {
     "name": "stdout",
     "output_type": "stream",
     "text": [
      "Loading atom Ca\n",
      "Added 783 states\n",
      "Dropping 2 unmatched transitions\n",
      "Added 135 transitions\n"
     ]
    }
   ],
   "source": [
    "Ca = from_nist('Ca')\n",
    "u = Ca._ureg"
   ]
  },
  {
   "cell_type": "markdown",
   "metadata": {},
   "source": [
    "Once we have loaded an atom we can access its states and transitions."
   ]
  },
  {
   "cell_type": "code",
   "execution_count": 5,
   "metadata": {},
   "outputs": [
    {
     "data": {
      "text/plain": [
       "[State(3p6.4s2 1S0 0 Ry),\n",
       " State(3p6.4s.4p 3P0 0.1381 Ry),\n",
       " State(3p6.4s.4p 3P1 0.1386 Ry),\n",
       " State(3p6.4s.4p 3P2 0.1396 Ry),\n",
       " State(3p6.3d.4s 3D1 0.1853 Ry),\n",
       " State(3p6.3d.4s 3D2 0.1854 Ry),\n",
       " State(3p6.3d.4s 3D3 0.1856 Ry),\n",
       " State(3p6.3d.4s 1D2 0.1991 Ry),\n",
       " State(3p6.4s.4p 1P1 0.2155 Ry),\n",
       " State(3p6.4s.5s 3S1 0.2874 Ry)]"
      ]
     },
     "execution_count": 5,
     "metadata": {},
     "output_type": "execute_result"
    }
   ],
   "source": [
    "Ca.states[0:10]"
   ]
  },
  {
   "cell_type": "code",
   "execution_count": 6,
   "metadata": {},
   "outputs": [
    {
     "data": {
      "text/plain": [
       "[Transition(3p6.4s2 1S0 --> 3p6.4s.8p 1P1 215.1 nm (E1)),\n",
       " Transition(3p6.4s2 1S0 --> 3p6.4s.7p 1P1 220.1 nm (E1)),\n",
       " Transition(3p6.4s2 1S0 --> 3p6.4s.6p 1P1 239.9 nm (E1)),\n",
       " Transition(3p6.4s2 1S0 --> 3p6.3d.4p 3P1 254.2 nm (E1)),\n",
       " Transition(3p6.4s2 1S0 --> 3p6.3d.4p 3D1 261.8 nm (E2)),\n",
       " Transition(3p6.4s2 1S0 --> 3p6.4s.5p 1P1 272.2 nm (E1)),\n",
       " Transition(3p6.4s2 1S0 --> 3p6.4s.4p 1P1 422.8 nm (E1)),\n",
       " Transition(3p6.4s2 1S0 --> 3p6.4s.4p 3P1 657.5 nm (E1)),\n",
       " Transition(3p6.4s.4p 3P0 --> 3p6.3d2 3P1 299.6 nm (M1)),\n",
       " Transition(3p6.4s.4p 3P0 --> 3p6.4s.10s 3S1 310.3 nm (E1))]"
      ]
     },
     "execution_count": 6,
     "metadata": {},
     "output_type": "execute_result"
    }
   ],
   "source": [
    "Ca.transitions[0:10]"
   ]
  },
  {
   "cell_type": "markdown",
   "metadata": {},
   "source": [
    "We can also more thoroughly inspect any of the states and transitions."
   ]
  },
  {
   "cell_type": "code",
   "execution_count": 7,
   "metadata": {},
   "outputs": [
    {
     "name": "stdout",
     "output_type": "stream",
     "text": [
      "Energy: 0.216 Ry, Lifetime: 4.59×10⁻⁹ s, Gamma: 34.7 MHz·_2pi\n",
      "\n",
      " Transitions from 3p6.4s.4p 1P1:\n",
      "    Transition(3p6.4s.4p 1P1 --> 3p6.4s.6d 1D2 468.7 nm (E1))\n",
      "    Transition(3p6.4s.4p 1P1 --> 3p6.4s.5d 1D2 519.0 nm (E1))\n",
      "    Transition(3p6.4s.4p 1P1 --> 3p6.4p2 1S0 551.5 nm (E1))\n",
      "    Transition(3p6.4s.4p 1P1 --> 3p6.4p2 1D2 585.9 nm (E1))\n",
      "\n",
      " Transitions to 3p6.4s.4p 1P1:\n",
      "    Transition(3p6.4s2 1S0 --> 3p6.4s.4p 1P1 422.8 nm (E1))\n",
      "\n",
      " Decay branching ratios:\n",
      "    State(3p6.4s2 1S0 0 Ry): 1.0\n"
     ]
    }
   ],
   "source": [
    "_1P1 = Ca.get_state('1P1')\n",
    "\n",
    "print(f\"Energy: {_1P1.energy}, Lifetime: {_1P1.lifetime}, Gamma: {_1P1.Gamma}\")\n",
    "\n",
    "print(f\"\\n Transitions from {_1P1.name}:\")\n",
    "for transition in _1P1.transitions_from:\n",
    "    print(f\"    {transition}\")\n",
    "    \n",
    "print(f\"\\n Transitions to {_1P1.name}:\")\n",
    "for transition in _1P1.transitions_to:\n",
    "    print(f\"    {transition}\")\n",
    "    \n",
    "print(f\"\\n Decay branching ratios:\")\n",
    "for state, ratio in _1P1.decay_branching_ratios.items():\n",
    "    print(f\"    {state}: {ratio}\")\n",
    "\n",
    "_1S0 = Ca.get_state('1S0')"
   ]
  },
  {
   "cell_type": "markdown",
   "metadata": {},
   "source": [
    "# Mills data for Calcium\n",
    "\n",
    "As we can see there is some missing data, as there is no information about the decay channel from the 1P1 to 1D2 state."
   ]
  },
  {
   "cell_type": "code",
   "execution_count": 8,
   "metadata": {},
   "outputs": [
    {
     "name": "stdout",
     "output_type": "stream",
     "text": [
      "Loading atom Ca\n",
      "Added 75 states\n",
      "Added 811 transitions\n"
     ]
    }
   ],
   "source": [
    "Ca = from_json('../data/Ca_mills.json')\n",
    "u = Ca._ureg"
   ]
  },
  {
   "cell_type": "code",
   "execution_count": 9,
   "metadata": {},
   "outputs": [
    {
     "name": "stdout",
     "output_type": "stream",
     "text": [
      "Energy: 0.216 Ry, Lifetime: 4.61×10⁻⁹ s, Gamma: 34.5 MHz·_2pi\n",
      "\n",
      " Transitions from 3p6.4s.4p 1P1:\n",
      "    Transition(3p6.4s.4p 1P1 --> 3p6.4s.5s 3S1 1267.9 nm (E1))\n",
      "    Transition(3p6.4s.4p 1P1 --> 3p6.4s.5s 1S0 1034.7 nm (E1))\n",
      "    Transition(3p6.4s.4p 1P1 --> 3p6.4s.4d 1D2 732.8 nm (E1))\n",
      "    Transition(3p6.4s.4p 1P1 --> 3p6.4s.4d 3D1 709.4 nm (E1))\n",
      "    Transition(3p6.4s.4p 1P1 --> 3p6.4s.4d 3D2 709.2 nm (E1))\n",
      "    Transition(3p6.4s.4p 1P1 --> 3p6.4p2 3P0 677.3 nm (M1))\n",
      "    Transition(3p6.4s.4p 1P1 --> 3p6.4p2 3P1 675.1 nm (M1))\n",
      "    Transition(3p6.4s.4p 1P1 --> 3p6.4p2 3P2 671.2 nm (M1))\n",
      "    Transition(3p6.4s.4p 1P1 --> 3p6.4s.6s 3S1 594.5 nm (E1))\n",
      "    Transition(3p6.4s.4p 1P1 --> 3p6.4s.6s 1S0 586.9 nm (E1))\n",
      "    Transition(3p6.4s.4p 1P1 --> 3p6.4p2 1D2 585.9 nm (E1))\n",
      "    Transition(3p6.4s.4p 1P1 --> 3p6.4p2 1S0 551.5 nm (E1))\n",
      "    Transition(3p6.4s.4p 1P1 --> 3p6.4s.5d 3D1 523.8 nm (E1))\n",
      "    Transition(3p6.4s.4p 1P1 --> 3p6.4s.5d 3D2 523.8 nm (E1))\n",
      "    Transition(3p6.4s.4p 1P1 --> 3p6.4s.5d 1D2 519.0 nm (E1))\n",
      "    Transition(3p6.4s.4p 1P1 --> 3p6.3d2 3F2 504.5 nm (E2))\n",
      "    Transition(3p6.4s.4p 1P1 --> 3p6.4s.7s 3S1 491.9 nm (E1))\n",
      "    Transition(3p6.4s.4p 1P1 --> 3p6.4s.7s 1S0 484.9 nm (E1))\n",
      "    Transition(3p6.4s.4p 1P1 --> 3p6.4s.6d 1D2 468.7 nm (E1))\n",
      "    Transition(3p6.4s.4p 1P1 --> 3p6.4s.6d 3D1 467.4 nm (E1))\n",
      "    Transition(3p6.4s.4p 1P1 --> 3p6.4s.6d 3D2 467.3 nm (E1))\n",
      "    Transition(3p6.4s.4p 1P1 --> 3p6.4s.8s 3S1 452.8 nm (E1))\n",
      "    Transition(3p6.4s.4p 1P1 --> 3p6.4s.8s 1S0 449.7 nm (E1))\n",
      "\n",
      " Transitions to 3p6.4s.4p 1P1:\n",
      "    Transition(3p6.4s2 1S0 --> 3p6.4s.4p 1P1 422.8 nm (E1))\n",
      "    Transition(3p6.3d.4s 3D1 --> 3p6.4s.4p 1P1 3014.8 nm (E1))\n",
      "    Transition(3p6.3d.4s 3D2 --> 3p6.4s.4p 1P1 3027.5 nm (E1))\n",
      "    Transition(3p6.3d.4s 1D2 --> 3p6.4s.4p 1P1 5547.3 nm (E1))\n",
      "\n",
      " Decay branching ratios:\n",
      "    State(3p6.4s2 1S0 0 Ry): 0.9999753288575283\n",
      "    State(3p6.3d.4s 1D2 0.1991 Ry): 2.460768781612535e-05\n",
      "    State(3p6.3d.4s 3D2 0.1854 Ry): 4.608181238974785e-08\n",
      "    State(3p6.3d.4s 3D1 0.1853 Ry): 1.7372843270934942e-08\n"
     ]
    }
   ],
   "source": [
    "_1P1 = Ca.get_state('1P1')\n",
    "\n",
    "print(f\"Energy: {_1P1.energy}, Lifetime: {_1P1.lifetime}, Gamma: {_1P1.Gamma}\")\n",
    "\n",
    "print(f\"\\n Transitions from {_1P1.name}:\")\n",
    "for transition in _1P1.transitions_from:\n",
    "    print(f\"    {transition}\")\n",
    "    \n",
    "print(f\"\\n Transitions to {_1P1.name}:\")\n",
    "for transition in _1P1.transitions_to:\n",
    "    print(f\"    {transition}\")\n",
    "    \n",
    "print(f\"\\n Decay branching ratios:\")\n",
    "for state, ratio in _1P1.decay_branching_ratios.items():\n",
    "    print(f\"    {state}: {ratio}\")\n",
    "\n",
    "_1S0 = Ca.get_state('1S0')"
   ]
  },
  {
   "cell_type": "markdown",
   "metadata": {},
   "source": [
    "# Electric Field\n",
    "\n",
    "Atomphys has also a built in class that deals with the electric field. Here I would like to show, how this functionality can be used in order to handle this electric field object."
   ]
  },
  {
   "cell_type": "code",
   "execution_count": 13,
   "metadata": {},
   "outputs": [],
   "source": [
    "from atomphys.electric_field import GaussianBeam\n",
    "import numpy as np"
   ]
  },
  {
   "cell_type": "code",
   "execution_count": 14,
   "metadata": {},
   "outputs": [],
   "source": [
    "_423_laser = GaussianBeam(frequency=(423*u('nm')).to('THz', 'sp'), waist=1.5*u('um'), power=20*u('mW'), polarization=np.array([1, 0, 0]), direction_of_propagation=np.array([0, 0, 1]), _ureg=u)"
   ]
  },
  {
   "cell_type": "code",
   "execution_count": 19,
   "metadata": {},
   "outputs": [
    {
     "name": "stdout",
     "output_type": "stream",
     "text": [
      "Intensity of the 423 nm laser: 5.66×10⁸ mW/cm²\n",
      "Properties of the 423 nm laser:\n",
      "    frequency: {'value': 708.7292151300235, 'units': 'THz'}\n",
      "    waist: {'value': 1.5, 'units': 'µm'}\n",
      "    power: {'value': 20, 'units': 'mW'}\n",
      "    polarization: [1, 0, 0]\n",
      "    direction_of_propagation: [0.0, 0.0, 1.0]\n"
     ]
    }
   ],
   "source": [
    "print(f\"Intensity of the 423 nm laser: {_423_laser.intensity}\")\n",
    "properties = _423_laser.to_json()\n",
    "print(\"Properties of the 423 nm laser:\")\n",
    "for key, value in properties.items():\n",
    "    print(f\"    {key}: {value}\")"
   ]
  }
 ],
 "metadata": {
  "kernelspec": {
   "display_name": ".venv",
   "language": "python",
   "name": "python3"
  },
  "language_info": {
   "codemirror_mode": {
    "name": "ipython",
    "version": 3
   },
   "file_extension": ".py",
   "mimetype": "text/x-python",
   "name": "python",
   "nbconvert_exporter": "python",
   "pygments_lexer": "ipython3",
   "version": "3.10.12"
  }
 },
 "nbformat": 4,
 "nbformat_minor": 2
}
