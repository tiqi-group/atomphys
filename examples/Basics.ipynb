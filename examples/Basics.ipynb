{
 "cells": [
  {
   "cell_type": "code",
   "execution_count": 4,
   "metadata": {},
   "outputs": [
    {
     "name": "stdout",
     "output_type": "stream",
     "text": [
      "Loading atom Ca+\n",
      "Added 72 states\n",
      "Added 99 transitions\n",
      "GaussianBeam: Intensity=(63.66 milliwatt / centimeter ** 2), Wavelength=(729.0 nanometer), Power=(1 milliwatt), Waist=(1 millimeter)\n",
      "GaussianBeam JSON: {'frequency': {'value': 411.2379396433469, 'units': 'terahertz'}, 'waist': {'value': 1, 'units': 'millimeter'}, 'power': {'value': 1, 'units': 'milliwatt'}, 'polarization': [6.123233995736766e-17, 1.0, 0.0], 'direction_of_propagation': [0.0, 0.0, 1.0]}\n"
     ]
    }
   ],
   "source": [
    "from atomphys import from_nist\n",
    "from atomphys import GaussianBeam\n",
    "from pint import UnitRegistry\n",
    "import numpy as np\n",
    "_ureg = UnitRegistry()\n",
    "\n",
    "# Helper functions\n",
    "def wl2freq(wavelength):\n",
    "    return _ureg(\"c\") / wavelength\n",
    "\n",
    "def freq2wl(frequency):\n",
    "    return _ureg(\"c\") / frequency\n",
    "\n",
    "# Main\n",
    "Ca = from_nist('Ca+')\n",
    "beam = GaussianBeam(\n",
    "    frequency=wl2freq(729 * _ureg(\"nm\")), \n",
    "    power=1 * _ureg(\"mW\"), \n",
    "    waist=1 * _ureg(\"mm\"), \n",
    "    polarization=[np.cos(np.deg2rad(90)), np.sin(np.deg2rad(90)), 0], \n",
    "    direction_of_propagation=[0, 0, 1], _ureg=_ureg\n",
    ")\n",
    "\n",
    "print(\"GaussianBeam: Intensity=(%s), Wavelength=(%s), Power=(%s), Waist=(%s)\" % (round(beam.intensity, 2), freq2wl(beam.frequency).to(\"nm\"), beam.power, beam.waist))\n",
    "print(\"GaussianBeam JSON: %s\" % beam.to_json())"
   ]
  },
  {
   "cell_type": "code",
   "execution_count": null,
   "metadata": {},
   "outputs": [],
   "source": []
  }
 ],
 "metadata": {
  "kernelspec": {
   "display_name": ".venv",
   "language": "python",
   "name": "python3"
  },
  "language_info": {
   "codemirror_mode": {
    "name": "ipython",
    "version": 3
   },
   "file_extension": ".py",
   "mimetype": "text/x-python",
   "name": "python",
   "nbconvert_exporter": "python",
   "pygments_lexer": "ipython3",
   "version": "3.12.3"
  }
 },
 "nbformat": 4,
 "nbformat_minor": 2
}
